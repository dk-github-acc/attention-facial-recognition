{
 "cells": [
  {
   "cell_type": "markdown",
   "metadata": {},
   "source": [
    "# Import Dependencies"
   ]
  },
  {
   "cell_type": "code",
   "execution_count": 1,
   "metadata": {},
   "outputs": [
    {
     "name": "stderr",
     "output_type": "stream",
     "text": [
      "Using TensorFlow backend.\n"
     ]
    }
   ],
   "source": [
    "import warnings\n",
    "warnings.filterwarnings('ignore')\n",
    "import keras\n",
    "import matplotlib.pyplot as plt"
   ]
  },
  {
   "cell_type": "markdown",
   "metadata": {},
   "source": [
    "## Define Types"
   ]
  },
  {
   "cell_type": "code",
   "execution_count": 2,
   "metadata": {},
   "outputs": [],
   "source": [
    "from typing import Tuple\n",
    "ImageShape = Tuple[int, int]\n",
    "GrayScaleImageShape = Tuple[int, int, int]"
   ]
  },
  {
   "cell_type": "markdown",
   "metadata": {},
   "source": [
    "# MNIST Sandbox Baseline Example"
   ]
  },
  {
   "cell_type": "markdown",
   "metadata": {},
   "source": [
    "This sandbox example is meant mostly to establish a few baselines for model performance to compare against, and also to get the basic Keras neural network architecture set up. I split the training and testing data and then one-hot encode the targets (one column per target, so ten columns after encoding)."
   ]
  },
  {
   "cell_type": "code",
   "execution_count": 3,
   "metadata": {},
   "outputs": [],
   "source": [
    "from keras.datasets import mnist\n",
    "import matplotlib.pyplot as plt"
   ]
  },
  {
   "cell_type": "code",
   "execution_count": 4,
   "metadata": {},
   "outputs": [
    {
     "name": "stdout",
     "output_type": "stream",
     "text": [
      "The shape of X_train is (60000, 28, 28)\n",
      "The shape of y_train is (60000,)\n",
      "The shape of X_test is (10000, 28, 28)\n",
      "The shape of y_test is (10000,) - some example targets: [7 2 1 0 4]\n",
      "(28, 28)\n"
     ]
    }
   ],
   "source": [
    "from typing import Tuple\n",
    "import numpy as np\n",
    "Dataset = Tuple[np.ndarray, np.ndarray]\n",
    "\n",
    "#download mnist data and split into train and test sets\n",
    "(X_train, y_train), (X_test, y_test) = mnist.load_data()\n",
    "print(f\"The shape of X_train is {X_train.shape}\")\n",
    "print(f\"The shape of y_train is {y_train.shape}\")\n",
    "print(f\"The shape of X_test is {X_test.shape}\")\n",
    "print(f\"The shape of y_test is {y_test.shape} - some example targets: {y_test[:5]}\")\n",
    "mnist_image_shape: ImageShape = X_train.shape[1:]\n",
    "print(mnist_image_shape)"
   ]
  },
  {
   "cell_type": "code",
   "execution_count": 5,
   "metadata": {},
   "outputs": [
    {
     "name": "stdout",
     "output_type": "stream",
     "text": [
      "One-hot encoding y_train (60000,) -> (60000, 10)\n",
      "One-hot encoding y_test (10000,) -> (10000, 10)\n"
     ]
    }
   ],
   "source": [
    "from keras.utils import to_categorical\n",
    "\n",
    "OneHotEncodedTarget = np.ndarray\n",
    "Categories = int\n",
    "encoded_y_train: OneHotEncodedTarget = to_categorical(y_train)\n",
    "encoded_y_test: OneHotEncodedTarget = to_categorical(y_test)\n",
    "print(f\"One-hot encoding y_train {y_train.shape} -> {encoded_y_train.shape}\")\n",
    "print(f\"One-hot encoding y_test {y_test.shape} -> {encoded_y_test.shape}\")\n",
    "\n",
    "K: Categories = encoded_y_test.shape[1]"
   ]
  },
  {
   "cell_type": "markdown",
   "metadata": {},
   "source": [
    "# Vanilla CNN Implementation"
   ]
  },
  {
   "cell_type": "markdown",
   "metadata": {},
   "source": [
    "Build a vanilla CNN implementation, with two convolutional layers, 64 and 32 filters each, with kernel size of `3 x 3`. Then the values are flattened and fed into the final softmax classification dense layer for predictions."
   ]
  },
  {
   "cell_type": "code",
   "execution_count": 12,
   "metadata": {},
   "outputs": [
    {
     "name": "stdout",
     "output_type": "stream",
     "text": [
      "Tensor(\"dense_3/Softmax:0\", shape=(?, 10), dtype=float32)\n"
     ]
    }
   ],
   "source": [
    "from keras.models import Sequential, Model\n",
    "from keras.layers import Dense, Conv2D, Flatten, Input\n",
    "from tensorflow.python.framework.ops import Tensor\n",
    "import warnings\n",
    "warnings.filterwarnings('ignore')\n",
    "\n",
    "# define model architecture and hyperparameters\n",
    "NUM_FILTERS_L1 = 64\n",
    "NUM_FILTERS_L2 = 32\n",
    "KERNEL_SIZE = 3\n",
    "\n",
    "# the images are 28 x 28 (pixel size) x 1 (grayscale - if RGB, then 3)\n",
    "input_dims: GrayScaleImageShape = (28,28,1)\n",
    "\n",
    "def build_vanilla_cnn(filters_layer1:int, filters_layer2:int, kernel_size:int, input_dims: GrayScaleImageShape)-> Model:\n",
    "    inputs: Tensor = Input(shape=input_dims)\n",
    "    x: Tensor = Conv2D(filters=filters_layer1, kernel_size=kernel_size, activation='relu')(inputs)\n",
    "    x: Tensor = Conv2D(filters=filters_layer2, kernel_size=kernel_size, activation='relu')(x)\n",
    "    x: Tensor = Flatten()(x)\n",
    "    predictions = Dense(K, activation=\"softmax\")(x)\n",
    "    print(predictions)\n",
    "\n",
    "    #compile model using accuracy to measure model performance\n",
    "    model: Model = Model(inputs=inputs, outputs=predictions)\n",
    "    model.compile(optimizer='adam', loss=\"categorical_crossentropy\", metrics=['accuracy'])\n",
    "    return model\n",
    "\n",
    "model: Model = build_vanilla_cnn(NUM_FILTERS_L1, NUM_FILTERS_L2, KERNEL_SIZE, input_dims)"
   ]
  },
  {
   "cell_type": "markdown",
   "metadata": {},
   "source": [
    "## Helper Function to Expand Tensor Dimensions By 1"
   ]
  },
  {
   "cell_type": "code",
   "execution_count": 6,
   "metadata": {},
   "outputs": [
    {
     "name": "stdout",
     "output_type": "stream",
     "text": [
      "Expanding shape from (60000, 28, 28) to (60000, 28, 28, 1)\n",
      "Expanding shape from (10000, 28, 28) to (10000, 28, 28, 1)\n"
     ]
    }
   ],
   "source": [
    "X_train.reshape((60000,1,28,28))\n",
    "\n",
    "def expand_tensor_shape(X_train: np.ndarray)-> np.ndarray:\n",
    "    new_shape: Tuple = X_train.shape + (1,)\n",
    "        \n",
    "#     new_tensor = X_train.reshape(new_shape).reshape((-1,1,28,28))\n",
    "    new_tensor = X_train.reshape(new_shape)\n",
    "    print(f\"Expanding shape from {X_train.shape} to {new_tensor.shape}\")\n",
    "    return new_tensor\n",
    "\n",
    "X_train_expanded: np.ndarray = expand_tensor_shape(X_train)\n",
    "X_test_expanded: np.ndarray = expand_tensor_shape(X_test)\n",
    "    \n",
    "    \n",
    "# train model and retrieve history\n",
    "# from keras.callbacks import History\n",
    "# history: History = model.fit(X_train_expanded, encoded_y_train, \n",
    "#                              validation_data=(X_test_expanded, encoded_y_test), epochs=2, batch_size=2058)"
   ]
  },
  {
   "cell_type": "markdown",
   "metadata": {},
   "source": [
    "## Global Average Pooling Layer\n",
    "\n",
    "Output shape of convolutional layer is typically `batch size x number of filters x width x height`. The GAP layer will take the average of the width/height axis and return a vector of length equal to the number of filters."
   ]
  },
  {
   "cell_type": "code",
   "execution_count": 8,
   "metadata": {},
   "outputs": [],
   "source": [
    "from keras import backend as K"
   ]
  },
  {
   "cell_type": "code",
   "execution_count": 9,
   "metadata": {},
   "outputs": [
    {
     "data": {
      "text/plain": [
       "(60000, 1, 28, 28)"
      ]
     },
     "execution_count": 9,
     "metadata": {},
     "output_type": "execute_result"
    }
   ],
   "source": [
    "np.reshape(X_train_expanded, (-1,1,28,28)).shape"
   ]
  },
  {
   "cell_type": "code",
   "execution_count": 10,
   "metadata": {},
   "outputs": [],
   "source": [
    "from keras.layers import Dense, Conv2D, Flatten, Input, MaxPool2D"
   ]
  },
  {
   "cell_type": "code",
   "execution_count": 48,
   "metadata": {},
   "outputs": [
    {
     "name": "stdout",
     "output_type": "stream",
     "text": [
      "_________________________________________________________________\n",
      "Layer (type)                 Output Shape              Param #   \n",
      "=================================================================\n",
      "input_1 (InputLayer)         (None, 28, 28, 1)         0         \n",
      "_________________________________________________________________\n",
      "conv2d_1 (Conv2D)            (None, 24, 24, 32)        832       \n",
      "_________________________________________________________________\n",
      "lambda_1 (Lambda)            (None, 32)                0         \n",
      "_________________________________________________________________\n",
      "dense_1 (Dense)              (None, 10)                330       \n",
      "=================================================================\n",
      "Total params: 1,162.0\n",
      "Trainable params: 1,162.0\n",
      "Non-trainable params: 0.0\n",
      "_________________________________________________________________\n",
      "Train on 60000 samples, validate on 10000 samples\n",
      "Epoch 1/100\n",
      "60000/60000 [==============================] - 5s - loss: 6.9768 - acc: 0.0942 - val_loss: 4.3748 - val_acc: 0.0978\n",
      "Epoch 2/100\n",
      "60000/60000 [==============================] - 5s - loss: 3.3634 - acc: 0.0858 - val_loss: 2.5592 - val_acc: 0.1437\n",
      "Epoch 3/100\n",
      "60000/60000 [==============================] - 6s - loss: 2.5739 - acc: 0.0908 - val_loss: 2.3753 - val_acc: 0.0980\n",
      "Epoch 4/100\n",
      "60000/60000 [==============================] - 6s - loss: 2.3633 - acc: 0.1137 - val_loss: 2.2549 - val_acc: 0.1373\n",
      "Epoch 5/100\n",
      "60000/60000 [==============================] - 6s - loss: 2.2353 - acc: 0.1205 - val_loss: 2.1695 - val_acc: 0.1765\n",
      "Epoch 6/100\n",
      "60000/60000 [==============================] - 6s - loss: 2.1458 - acc: 0.1797 - val_loss: 2.0833 - val_acc: 0.1997\n",
      "Epoch 7/100\n",
      "60000/60000 [==============================] - 7s - loss: 2.0661 - acc: 0.2243 - val_loss: 2.0146 - val_acc: 0.2675\n",
      "Epoch 8/100\n",
      "60000/60000 [==============================] - 7s - loss: 1.9997 - acc: 0.2866 - val_loss: 1.9549 - val_acc: 0.3238\n",
      "Epoch 9/100\n",
      "60000/60000 [==============================] - 7s - loss: 1.9400 - acc: 0.3411 - val_loss: 1.8985 - val_acc: 0.3675\n",
      "Epoch 10/100\n",
      "60000/60000 [==============================] - 7s - loss: 1.8843 - acc: 0.3772 - val_loss: 1.8459 - val_acc: 0.4216\n",
      "Epoch 11/100\n",
      "60000/60000 [==============================] - 7s - loss: 1.8285 - acc: 0.4098 - val_loss: 1.7896 - val_acc: 0.4348\n",
      "Epoch 12/100\n",
      "60000/60000 [==============================] - 7s - loss: 1.7714 - acc: 0.4373 - val_loss: 1.7330 - val_acc: 0.4615\n",
      "Epoch 13/100\n",
      "60000/60000 [==============================] - 6s - loss: 1.7167 - acc: 0.4590 - val_loss: 1.6803 - val_acc: 0.4677\n",
      "Epoch 14/100\n",
      "60000/60000 [==============================] - 7s - loss: 1.6663 - acc: 0.4762 - val_loss: 1.6348 - val_acc: 0.4737\n",
      "Epoch 15/100\n",
      "60000/60000 [==============================] - 7s - loss: 1.6211 - acc: 0.4913 - val_loss: 1.5894 - val_acc: 0.5145\n",
      "Epoch 16/100\n",
      "60000/60000 [==============================] - 6s - loss: 1.5786 - acc: 0.5081 - val_loss: 1.5476 - val_acc: 0.5200\n",
      "Epoch 17/100\n",
      "60000/60000 [==============================] - 7s - loss: 1.5394 - acc: 0.5226 - val_loss: 1.5062 - val_acc: 0.5409\n",
      "Epoch 18/100\n",
      "60000/60000 [==============================] - 7s - loss: 1.5026 - acc: 0.5362 - val_loss: 1.4688 - val_acc: 0.5518\n",
      "Epoch 19/100\n",
      "60000/60000 [==============================] - 7s - loss: 1.4656 - acc: 0.5511 - val_loss: 1.4327 - val_acc: 0.5611\n",
      "Epoch 20/100\n",
      "60000/60000 [==============================] - 7s - loss: 1.4324 - acc: 0.5623 - val_loss: 1.3981 - val_acc: 0.5679\n",
      "Epoch 21/100\n",
      "60000/60000 [==============================] - 7s - loss: 1.3992 - acc: 0.5735 - val_loss: 1.3634 - val_acc: 0.5926\n",
      "Epoch 22/100\n",
      "60000/60000 [==============================] - 7s - loss: 1.3662 - acc: 0.5861 - val_loss: 1.3278 - val_acc: 0.6079\n",
      "Epoch 23/100\n",
      "60000/60000 [==============================] - 7s - loss: 1.3357 - acc: 0.5987 - val_loss: 1.2963 - val_acc: 0.6019\n",
      "Epoch 24/100\n",
      "60000/60000 [==============================] - 7s - loss: 1.3060 - acc: 0.6063 - val_loss: 1.2654 - val_acc: 0.6233\n",
      "Epoch 25/100\n",
      "60000/60000 [==============================] - 7s - loss: 1.2761 - acc: 0.6216 - val_loss: 1.2373 - val_acc: 0.6224\n",
      "Epoch 26/100\n",
      "60000/60000 [==============================] - 7s - loss: 1.2490 - acc: 0.6269 - val_loss: 1.2076 - val_acc: 0.6373\n",
      "Epoch 27/100\n",
      "60000/60000 [==============================] - 6s - loss: 1.2217 - acc: 0.6381 - val_loss: 1.1771 - val_acc: 0.6549\n",
      "Epoch 28/100\n",
      "60000/60000 [==============================] - 7s - loss: 1.1946 - acc: 0.6498 - val_loss: 1.1507 - val_acc: 0.6625\n",
      "Epoch 29/100\n",
      "60000/60000 [==============================] - 7s - loss: 1.1705 - acc: 0.6570 - val_loss: 1.1220 - val_acc: 0.6878\n",
      "Epoch 30/100\n",
      "60000/60000 [==============================] - 6s - loss: 1.1457 - acc: 0.6672 - val_loss: 1.0987 - val_acc: 0.6810\n",
      "Epoch 31/100\n",
      "60000/60000 [==============================] - 7s - loss: 1.1228 - acc: 0.6702 - val_loss: 1.0761 - val_acc: 0.7052\n",
      "Epoch 32/100\n",
      "60000/60000 [==============================] - 7s - loss: 1.1012 - acc: 0.6811 - val_loss: 1.0534 - val_acc: 0.6992\n",
      "Epoch 33/100\n",
      "60000/60000 [==============================] - 7s - loss: 1.0790 - acc: 0.6898 - val_loss: 1.0358 - val_acc: 0.6848\n",
      "Epoch 34/100\n",
      "60000/60000 [==============================] - 7s - loss: 1.0602 - acc: 0.6938 - val_loss: 1.0097 - val_acc: 0.7075\n",
      "Epoch 35/100\n",
      "60000/60000 [==============================] - 7s - loss: 1.0395 - acc: 0.7027 - val_loss: 0.9923 - val_acc: 0.7181\n",
      "Epoch 36/100\n",
      "60000/60000 [==============================] - 6s - loss: 1.0215 - acc: 0.7089 - val_loss: 0.9722 - val_acc: 0.7313\n",
      "Epoch 37/100\n",
      "60000/60000 [==============================] - 7s - loss: 1.0040 - acc: 0.7160 - val_loss: 0.9545 - val_acc: 0.7237\n",
      "Epoch 38/100\n",
      "60000/60000 [==============================] - 7s - loss: 0.9888 - acc: 0.7174 - val_loss: 0.9346 - val_acc: 0.7467\n",
      "Epoch 39/100\n",
      "60000/60000 [==============================] - 7s - loss: 0.9706 - acc: 0.7267 - val_loss: 0.9182 - val_acc: 0.7474\n",
      "Epoch 40/100\n",
      "60000/60000 [==============================] - 6s - loss: 0.9554 - acc: 0.7314 - val_loss: 0.9063 - val_acc: 0.7419\n",
      "Epoch 41/100\n",
      "60000/60000 [==============================] - 7s - loss: 0.9402 - acc: 0.7340 - val_loss: 0.8900 - val_acc: 0.7597\n",
      "Epoch 42/100\n",
      "60000/60000 [==============================] - 6s - loss: 0.9273 - acc: 0.7399 - val_loss: 0.8740 - val_acc: 0.7593\n",
      "Epoch 43/100\n",
      "60000/60000 [==============================] - 7s - loss: 0.9132 - acc: 0.7449 - val_loss: 0.8614 - val_acc: 0.7590\n",
      "Epoch 44/100\n",
      "60000/60000 [==============================] - 7s - loss: 0.9001 - acc: 0.7478 - val_loss: 0.8468 - val_acc: 0.7638\n",
      "Epoch 45/100\n",
      "60000/60000 [==============================] - 7s - loss: 0.8875 - acc: 0.7530 - val_loss: 0.8359 - val_acc: 0.7683\n",
      "Epoch 46/100\n",
      "60000/60000 [==============================] - 7s - loss: 0.8764 - acc: 0.7545 - val_loss: 0.8251 - val_acc: 0.7746\n",
      "Epoch 47/100\n",
      "60000/60000 [==============================] - 6s - loss: 0.8659 - acc: 0.7582 - val_loss: 0.8163 - val_acc: 0.7788\n",
      "Epoch 48/100\n",
      "60000/60000 [==============================] - 6s - loss: 0.8557 - acc: 0.7617 - val_loss: 0.8051 - val_acc: 0.7811\n",
      "Epoch 49/100\n",
      "60000/60000 [==============================] - 6s - loss: 0.8462 - acc: 0.7627 - val_loss: 0.7947 - val_acc: 0.7791\n",
      "Epoch 50/100\n",
      "60000/60000 [==============================] - 6s - loss: 0.8383 - acc: 0.7662 - val_loss: 0.7873 - val_acc: 0.7821\n",
      "Epoch 51/100\n",
      "60000/60000 [==============================] - 7s - loss: 0.8262 - acc: 0.7707 - val_loss: 0.7774 - val_acc: 0.7849\n",
      "Epoch 52/100\n",
      "60000/60000 [==============================] - 7s - loss: 0.8174 - acc: 0.7722 - val_loss: 0.7658 - val_acc: 0.7945\n",
      "Epoch 53/100\n",
      "60000/60000 [==============================] - 6s - loss: 0.8089 - acc: 0.7752 - val_loss: 0.7568 - val_acc: 0.7924\n",
      "Epoch 54/100\n",
      "60000/60000 [==============================] - 6s - loss: 0.7997 - acc: 0.7789 - val_loss: 0.7467 - val_acc: 0.7988\n",
      "Epoch 55/100\n",
      "60000/60000 [==============================] - 6s - loss: 0.7913 - acc: 0.7809 - val_loss: 0.7396 - val_acc: 0.8003\n",
      "Epoch 56/100\n",
      "60000/60000 [==============================] - 6s - loss: 0.7842 - acc: 0.7834 - val_loss: 0.7320 - val_acc: 0.7993\n",
      "Epoch 57/100\n",
      "60000/60000 [==============================] - 6s - loss: 0.7758 - acc: 0.7841 - val_loss: 0.7230 - val_acc: 0.8034\n",
      "Epoch 58/100\n",
      "60000/60000 [==============================] - 7s - loss: 0.7696 - acc: 0.7849 - val_loss: 0.7161 - val_acc: 0.8054\n",
      "Epoch 59/100\n",
      "60000/60000 [==============================] - 6s - loss: 0.7612 - acc: 0.7893 - val_loss: 0.7125 - val_acc: 0.8020\n",
      "Epoch 60/100\n",
      "60000/60000 [==============================] - 6s - loss: 0.7543 - acc: 0.7921 - val_loss: 0.7062 - val_acc: 0.8066\n",
      "Epoch 61/100\n",
      "60000/60000 [==============================] - 7s - loss: 0.7487 - acc: 0.7917 - val_loss: 0.6959 - val_acc: 0.8111\n",
      "Epoch 62/100\n",
      "60000/60000 [==============================] - 7s - loss: 0.7413 - acc: 0.7949 - val_loss: 0.6893 - val_acc: 0.8127\n",
      "Epoch 63/100\n",
      "60000/60000 [==============================] - 7s - loss: 0.7340 - acc: 0.7984 - val_loss: 0.6845 - val_acc: 0.8123\n",
      "Epoch 64/100\n",
      "60000/60000 [==============================] - 7s - loss: 0.7280 - acc: 0.7985 - val_loss: 0.6766 - val_acc: 0.8143\n",
      "Epoch 65/100\n",
      "60000/60000 [==============================] - 7s - loss: 0.7225 - acc: 0.7997 - val_loss: 0.6694 - val_acc: 0.8178\n",
      "Epoch 66/100\n",
      "60000/60000 [==============================] - 6s - loss: 0.7170 - acc: 0.8009 - val_loss: 0.6652 - val_acc: 0.8184\n",
      "Epoch 67/100\n",
      "60000/60000 [==============================] - 6s - loss: 0.7120 - acc: 0.8022 - val_loss: 0.6617 - val_acc: 0.8182\n",
      "Epoch 68/100\n",
      "60000/60000 [==============================] - 6s - loss: 0.7068 - acc: 0.8032 - val_loss: 0.6553 - val_acc: 0.8237\n",
      "Epoch 69/100\n",
      "60000/60000 [==============================] - 6s - loss: 0.7014 - acc: 0.8053 - val_loss: 0.6489 - val_acc: 0.8224\n",
      "Epoch 70/100\n",
      "60000/60000 [==============================] - 6s - loss: 0.6937 - acc: 0.8083 - val_loss: 0.6426 - val_acc: 0.8230\n",
      "Epoch 71/100\n",
      "60000/60000 [==============================] - 6s - loss: 0.6879 - acc: 0.8100 - val_loss: 0.6414 - val_acc: 0.8223\n",
      "Epoch 72/100\n",
      "60000/60000 [==============================] - 7s - loss: 0.6869 - acc: 0.8084 - val_loss: 0.6366 - val_acc: 0.8258\n",
      "Epoch 73/100\n",
      "60000/60000 [==============================] - 6s - loss: 0.6800 - acc: 0.8115 - val_loss: 0.6277 - val_acc: 0.8274\n",
      "Epoch 74/100\n",
      "60000/60000 [==============================] - 6s - loss: 0.6751 - acc: 0.8137 - val_loss: 0.6249 - val_acc: 0.8278\n",
      "Epoch 75/100\n",
      "60000/60000 [==============================] - 7s - loss: 0.6702 - acc: 0.8148 - val_loss: 0.6212 - val_acc: 0.8285\n",
      "Epoch 76/100\n",
      "60000/60000 [==============================] - 6s - loss: 0.6669 - acc: 0.8151 - val_loss: 0.6162 - val_acc: 0.8301\n",
      "Epoch 77/100\n",
      "60000/60000 [==============================] - 7s - loss: 0.6610 - acc: 0.8176 - val_loss: 0.6136 - val_acc: 0.8268\n",
      "Epoch 78/100\n",
      "60000/60000 [==============================] - 7s - loss: 0.6565 - acc: 0.8184 - val_loss: 0.6097 - val_acc: 0.8290\n",
      "Epoch 79/100\n",
      "60000/60000 [==============================] - 7s - loss: 0.6518 - acc: 0.8195 - val_loss: 0.6002 - val_acc: 0.8342\n",
      "Epoch 80/100\n",
      "60000/60000 [==============================] - 7s - loss: 0.6455 - acc: 0.8223 - val_loss: 0.5985 - val_acc: 0.8351\n",
      "Epoch 81/100\n",
      "60000/60000 [==============================] - 7s - loss: 0.6423 - acc: 0.8238 - val_loss: 0.5986 - val_acc: 0.8324\n",
      "Epoch 82/100\n",
      "60000/60000 [==============================] - 8s - loss: 0.6404 - acc: 0.8232 - val_loss: 0.5925 - val_acc: 0.8345\n",
      "Epoch 83/100\n",
      "60000/60000 [==============================] - 7s - loss: 0.6359 - acc: 0.8245 - val_loss: 0.5882 - val_acc: 0.8350\n",
      "Epoch 84/100\n",
      "60000/60000 [==============================] - 7s - loss: 0.6314 - acc: 0.8262 - val_loss: 0.5828 - val_acc: 0.8401\n",
      "Epoch 85/100\n",
      "60000/60000 [==============================] - 7s - loss: 0.6274 - acc: 0.8269 - val_loss: 0.5807 - val_acc: 0.8410\n",
      "Epoch 86/100\n",
      "60000/60000 [==============================] - 7s - loss: 0.6240 - acc: 0.8278 - val_loss: 0.5744 - val_acc: 0.8419\n",
      "Epoch 87/100\n",
      "60000/60000 [==============================] - 7s - loss: 0.6190 - acc: 0.8294 - val_loss: 0.5707 - val_acc: 0.8446\n",
      "Epoch 88/100\n",
      "60000/60000 [==============================] - 7s - loss: 0.6166 - acc: 0.8304 - val_loss: 0.5678 - val_acc: 0.8433\n",
      "Epoch 89/100\n",
      "60000/60000 [==============================] - 7s - loss: 0.6120 - acc: 0.8313 - val_loss: 0.5652 - val_acc: 0.8433\n",
      "Epoch 90/100\n",
      "60000/60000 [==============================] - 7s - loss: 0.6082 - acc: 0.8322 - val_loss: 0.5585 - val_acc: 0.8501\n",
      "Epoch 91/100\n",
      "60000/60000 [==============================] - 6s - loss: 0.6042 - acc: 0.8342 - val_loss: 0.5562 - val_acc: 0.8522\n",
      "Epoch 92/100\n",
      "60000/60000 [==============================] - 7s - loss: 0.6035 - acc: 0.8336 - val_loss: 0.5552 - val_acc: 0.8471\n",
      "Epoch 93/100\n",
      "60000/60000 [==============================] - 7s - loss: 0.5998 - acc: 0.8350 - val_loss: 0.5585 - val_acc: 0.8478\n",
      "Epoch 94/100\n",
      "60000/60000 [==============================] - 7s - loss: 0.5968 - acc: 0.8343 - val_loss: 0.5460 - val_acc: 0.8515\n",
      "Epoch 95/100\n",
      "60000/60000 [==============================] - 7s - loss: 0.5894 - acc: 0.8379 - val_loss: 0.5444 - val_acc: 0.8518\n",
      "Epoch 96/100\n",
      "60000/60000 [==============================] - 8s - loss: 0.5874 - acc: 0.8382 - val_loss: 0.5442 - val_acc: 0.8492\n",
      "Epoch 97/100\n",
      "60000/60000 [==============================] - 7s - loss: 0.5847 - acc: 0.8388 - val_loss: 0.5379 - val_acc: 0.8563\n",
      "Epoch 98/100\n",
      "60000/60000 [==============================] - 7s - loss: 0.5823 - acc: 0.8391 - val_loss: 0.5384 - val_acc: 0.8563\n",
      "Epoch 99/100\n",
      "60000/60000 [==============================] - 7s - loss: 0.5815 - acc: 0.8391 - val_loss: 0.5382 - val_acc: 0.8512\n",
      "Epoch 100/100\n",
      "60000/60000 [==============================] - 7s - loss: 0.5796 - acc: 0.8395 - val_loss: 0.5268 - val_acc: 0.8584\n"
     ]
    }
   ],
   "source": [
    "###### from keras.layers import Layer, Lambda, Input\n",
    "from tensorflow.python.framework.ops import Tensor\n",
    "from keras.models import Sequential, Model\n",
    "from keras.layers import Dense, Conv2D, Flatten, Input, MaxPool2D\n",
    "from tensorflow.python.framework.ops import Tensor\n",
    "def global_average_pooling(x: Layer):\n",
    "    return K.mean(x, axis = (2,3))\n",
    "\n",
    "def global_average_pooling_shape(input_shape):\n",
    "    # return the dimensions corresponding with batch size and number of filters\n",
    "    return (input_shape[0], input_shape[-1])\n",
    "\n",
    "def build_global_average_pooling_layer(function, output_shape):\n",
    "    return Lambda(pooling_function, output_shape)\n",
    "\n",
    "inputs: Tensor = Input(shape=(28,28,1))\n",
    "x: Tensor = Conv2D(filters=32, kernel_size=5, activation='relu')(inputs)\n",
    "# x: Tensor = MaxPool2D()(x)\n",
    "# x: Tensor = Conv2D(filters=64, kernel_size=5, activation='relu')(x)\n",
    "x: Tensor = Lambda(lambda x: K.mean(x, axis=(1,2)), output_shape=global_average_pooling_shape)(x)\n",
    "# x: Tensor = Dense(128, activation=\"relu\")(x)\n",
    "predictions: Tensor = Dense(10, activation=\"softmax\")(x)\n",
    "model: Model = Model(inputs=inputs, outputs=predictions)\n",
    "model.summary()\n",
    "model.compile(optimizer='adam', loss=\"categorical_crossentropy\", metrics=['accuracy'])\n",
    "from keras.callbacks import History\n",
    "history: History = model.fit(X_train_expanded, encoded_y_train,  \n",
    "                             validation_data=(X_test_expanded, encoded_y_test), epochs=100, batch_size=5126)"
   ]
  },
  {
   "cell_type": "markdown",
   "metadata": {},
   "source": [
    "## Save the Class Activation Model Weights"
   ]
  },
  {
   "cell_type": "code",
   "execution_count": 12,
   "metadata": {},
   "outputs": [],
   "source": [
    "import cv2\n",
    "\n",
    "from keras.layers import Layer, Lambda\n",
    "def global_average_pooling(x: Layer):\n",
    "    return K.mean(x, axis = (2,3))\n",
    "\n",
    "def global_average_pooling_shape(input_shape):\n",
    "    # return only the first two dimensions (batch size and number of filters)\n",
    "    return input_shape[0:2]\n",
    "\n",
    "def build_global_average_pooling_layer(function, output_shape):\n",
    "    return Lambda(pooling_function, output_shape)\n",
    "\n",
    "\n",
    "def get_output_layer(model, layer_name):\n",
    "    # get the symbolic outputs of each \"key\" layer (we gave them unique names).\n",
    "    layer_dict = dict([(layer.name, layer) for layer in model.layers])\n",
    "    layer = layer_dict[layer_name]\n",
    "    return layer"
   ]
  },
  {
   "cell_type": "code",
   "execution_count": 49,
   "metadata": {},
   "outputs": [],
   "source": [
    "# persist mode\n",
    "\n",
    "save_filepath: str = \"basic_cam.h5\"\n",
    "model.save(save_filepath)"
   ]
  },
  {
   "cell_type": "code",
   "execution_count": 86,
   "metadata": {},
   "outputs": [
    {
     "data": {
      "text/plain": [
       "<matplotlib.image.AxesImage at 0x2115519bfd0>"
      ]
     },
     "execution_count": 86,
     "metadata": {},
     "output_type": "execute_result"
    },
    {
     "data": {
      "image/png": "[encoded data removed]",
      "text/plain": [
       "<Figure size 432x288 with 1 Axes>"
      ]
     },
     "metadata": {
      "needs_background": "light"
     },
     "output_type": "display_data"
    }
   ],
   "source": [
    "first_image = X_train[5]\n",
    "first_image = first_image.reshape(28,28,1)\n",
    "img = np.array(first_image).reshape(1, 28, 28, 1)\n",
    "img.shape\n",
    "plt.imshow(img.reshape((28,28)))\n",
    "#img = np.array([np.transpose(np.float32(first_image), (2, 0, 1))])"
   ]
  },
  {
   "cell_type": "markdown",
   "metadata": {},
   "source": [
    "## Load Basic Model\n",
    "(since the model files are so large, they cannot be pushed to Github- just email me for a copy of the `.h5` model files)"
   ]
  },
  {
   "cell_type": "code",
   "execution_count": 15,
   "metadata": {},
   "outputs": [],
   "source": [
    "from keras.models import load_model\n",
    "\n",
    "model = load_model(\"basic_cam.h5\")"
   ]
  },
  {
   "cell_type": "code",
   "execution_count": null,
   "metadata": {},
   "outputs": [],
   "source": [
    "dense_10_layer: Layer = model.layers[-1]\n",
    "dense_10_weights = dense_10_layer.get_weights()[0]\n",
    "print(f\"Dense 10 weights: {dense_10_weights.shape}\")\n",
    "dense_128_layer: Layer = model.layers[-2]\n",
    "dense_128_weights = dense_128_layer.get_weights()[0]\n",
    "print(f\"Dense 128 weights: {dense_128_weights.shape}\")"
   ]
  },
  {
   "cell_type": "markdown",
   "metadata": {},
   "source": [
    "## Map the Final Class Activation Map Back to the Original Input Shapes and Visualize"
   ]
  },
  {
   "cell_type": "code",
   "execution_count": 112,
   "metadata": {},
   "outputs": [
    {
     "name": "stdout",
     "output_type": "stream",
     "text": [
      "(24, 24, 32)\n",
      "(32, 10)\n"
     ]
    },
    {
     "data": {
      "text/plain": [
       "Text(0.5, 1.0, 'True Image')"
      ]
     },
     "execution_count": 112,
     "metadata": {},
     "output_type": "execute_result"
    },
    {
     "data": {
      "image/png": "[encoded data removed]",
      "text/plain": [
       "<Figure size 1080x1080 with 4 Axes>"
      ]
     },
     "metadata": {
      "needs_background": "light"
     },
     "output_type": "display_data"
    }
   ],
   "source": [
    "import keras.backend as K\n",
    "class_weights = model.layers[-1].get_weights()[0]\n",
    "final_conv_layer = get_output_layer(model, \"conv2d_1\")\n",
    "\n",
    "get_output = K.function([model.layers[0].input], [final_conv_layer.output, model.layers[-1].output])\n",
    "[conv_outputs, predictions] = get_output([img])\n",
    "conv_outputs = conv_outputs[0,:,:,:]\n",
    "print(conv_outputs.shape)\n",
    "print(class_weights.shape)\n",
    "\n",
    "def make_cam(conv_outputs, class_weights, original_shape, target_class):\n",
    "    cam = np.zeros(dtype=np.float32, shape = conv_outputs.shape[0:2])\n",
    "    for i, w in enumerate(class_weights[:, target_class]):\n",
    "        cam += w * conv_outputs[:,:,i]\n",
    "    cam /= np.max(cam)\n",
    "    return cv2.resize(cam, (28, 28))\n",
    "\n",
    "def make_heatmap(cam):\n",
    "    heatmap = cv2.applyColorMap(np.uint8(255*cam), cv2.COLORMAP_JET)\n",
    "    heatmap[np.where(cam < 0.1)] = 0\n",
    "    return heatmap\n",
    "\n",
    "\n",
    "cam = make_cam(conv_outputs, class_weights, original_shape=(28,28), target_class=2)\n",
    "false_cam = make_cam(conv_outputs, class_weights, original_shape=(28,28), target_class=4)\n",
    "false2_cam = make_cam(conv_outputs, class_weights, original_shape=(28,28), target_class=5)\n",
    "\n",
    "heatmap = make_heatmap(cam)\n",
    "false_heatmap = make_heatmap(false_cam)\n",
    "false2_heatmap = make_heatmap(false2_cam)\n",
    "\n",
    "new_img = heatmap*0.5 + img\n",
    "final_img = new_img.reshape((28,28,3))\n",
    "\n",
    "# f, axarr = plt.subplots(2,1)\n",
    "# axarr[0,0].imshow(heatmap)\n",
    "# axarr[0,1].imshow(img.reshape(28,28))\n",
    "\n",
    "imgs = [heatmap, img.reshape(28,28)]\n",
    "fig, axes = plt.subplots(nrows=1, ncols=4, figsize=(15, 15))\n",
    "axes[0].imshow(heatmap)\n",
    "axes[0].set_title(\"Activation Map for 2\")\n",
    "axes[1].imshow(false_heatmap)\n",
    "axes[1].set_title(\"Activation Map for 4\")\n",
    "axes[2].imshow(false2_heatmap)\n",
    "axes[2].set_title(\"Activation Map for 5\")\n",
    "axes[3].imshow(img.reshape((28,28)))\n",
    "axes[3].set_title(\"True Image\")"
   ]
  },
  {
   "cell_type": "code",
   "execution_count": 28,
   "metadata": {},
   "outputs": [
    {
     "data": {
      "text/plain": [
       "<matplotlib.image.AxesImage at 0x189f7aee0b8>"
      ]
     },
     "execution_count": 28,
     "metadata": {},
     "output_type": "execute_result"
    },
    {
     "data": {
      "image/png": "[encoded data removed]",
      "text/plain": [
       "<Figure size 432x288 with 1 Axes>"
      ]
     },
     "metadata": {
      "needs_background": "light"
     },
     "output_type": "display_data"
    }
   ],
   "source": [
    "import matplotlib.pyplot as plt\n",
    "plt.imshow(img.reshape((28,28)))"
   ]
  },
  {
   "cell_type": "code",
   "execution_count": 23,
   "metadata": {},
   "outputs": [
    {
     "data": {
      "text/plain": [
       "(24, 24)"
      ]
     },
     "execution_count": 23,
     "metadata": {},
     "output_type": "execute_result"
    }
   ],
   "source": [
    "cam /= np.max(cam)"
   ]
  },
  {
   "cell_type": "code",
   "execution_count": 47,
   "metadata": {},
   "outputs": [
    {
     "data": {
      "text/plain": [
       "<tf.Tensor 'conv2d_28_1/Relu:0' shape=(?, 8, 8, 64) dtype=float32>"
      ]
     },
     "execution_count": 47,
     "metadata": {},
     "output_type": "execute_result"
    }
   ],
   "source": [
    "import keras.backend as K\n",
    "from tensorflow.python.framework.ops import Tensor\n",
    "\n",
    "dense_weights = model.layers[-2].get_weights()[0]\n",
    "\n",
    "softmax_weights = model.layers[-1].get_weights()[0]\n",
    "\n",
    "dense_weights.shape\n",
    "softmax_weights.shape\n",
    "\n",
    "final_conv_layer = get_output_layer(model, \"conv2d_28\")\n",
    "final_conv_layer.output"
   ]
  },
  {
   "cell_type": "code",
   "execution_count": 18,
   "metadata": {},
   "outputs": [
    {
     "name": "stdout",
     "output_type": "stream",
     "text": [
      "Class weights is shape (128, 10)\n",
      "Conv2D output shape: (1, 8, 8, 64)\n",
      "Predictions: (1, 10)\n"
     ]
    }
   ],
   "source": [
    "import keras.backend as K\n",
    "from tensorflow.python.framework.ops import Tensor\n",
    "class_weights: np.ndarray = model.layers[-1].get_weights()[0] # class weights is of shape 32 x 10 (number of filter outputs x classes)\n",
    "print(f\"Class weights is shape {class_weights.shape}\")\n",
    "final_conv_layer: Conv2D = get_output_layer(model, \"conv2d_28\")\n",
    "\n",
    "input_tensor: Tensor = model.layers[0].input\n",
    "final_conv_layer_output: Tensor = final_conv_layer.output\n",
    "model_class_weights: Tensor = model.layers[-1].output\n",
    "    \n",
    "# K.function is a function factory that accepts arbitrary input layers and outputs arbitrary output layers\n",
    "get_output = K.function([input_tensor], [final_conv_layer_output, model_class_weights])\n",
    "\n",
    "[conv_outputs, predictions] = get_output([img])\n",
    "print(\"Conv2D output shape:\", conv_outputs.shape) # should match the shape of the outputs from the Conv2D layer\n",
    "print(\"Predictions:\", predictions.shape)\n",
    "np.argmax(predictions)\n",
    "\n",
    "conv_outputs = conv_outputs[0,:,:,:]\n",
    "# [conv_outputs, predictions] = get_output([img])\n",
    "# conv_outputs = conv_outputs[0, :, :, :]"
   ]
  },
  {
   "cell_type": "code",
   "execution_count": 22,
   "metadata": {},
   "outputs": [
    {
     "data": {
      "text/plain": [
       "(128, 10)"
      ]
     },
     "execution_count": 22,
     "metadata": {},
     "output_type": "execute_result"
    }
   ],
   "source": [
    "class_weights.shape"
   ]
  },
  {
   "cell_type": "code",
   "execution_count": 40,
   "metadata": {},
   "outputs": [
    {
     "data": {
      "text/plain": [
       "(8, 64)"
      ]
     },
     "execution_count": 40,
     "metadata": {},
     "output_type": "execute_result"
    }
   ],
   "source": [
    "# Create the class activation map\n",
    "\n",
    "class_activation_map = np.zeros(dtype=np.float32, shape=conv_outputs.shape[1:3])\n",
    "class_activation_map.shape"
   ]
  },
  {
   "cell_type": "code",
   "execution_count": null,
   "metadata": {},
   "outputs": [],
   "source": [
    "#Reshape to the network input shape (3, w, h).\n",
    "img = np.array([np.transpose(np.float32(original_img), (2, 0, 1))])\n",
    "\n",
    "#Get the 512 input weights to the softmax.\n",
    "class_weights = model.layers[-1].get_weights()[0]\n",
    "final_conv_layer = get_output_layer(model, \"conv5_3\")\n",
    "get_output = K.function([model.layers[0].input], \\\n",
    "            [final_conv_layer.output, \n",
    "model.layers[-1].output])\n",
    "[conv_outputs, predictions] = get_output([img])\n",
    "conv_outputs = conv_outputs[0, :, :, :]\n",
    "\n",
    "#Create the class activation map.\n",
    "cam = np.zeros(dtype = np.float32, shape = conv_outputs.shape[1:3])\n",
    "target_class = 1\n",
    "for i, w in enumerate(class_weights[:, target_class]):\n",
    "        cam += w * conv_outputs[i, :, :]"
   ]
  },
  {
   "cell_type": "markdown",
   "metadata": {},
   "source": [
    "# Everything Below This Section Is Doodling"
   ]
  },
  {
   "cell_type": "code",
   "execution_count": 78,
   "metadata": {},
   "outputs": [],
   "source": [
    "image_path = \n",
    "original_img = cv2.imread(image_path, 1)\n",
    "width, height, _ = original_image.shape"
   ]
  },
  {
   "cell_type": "code",
   "execution_count": 24,
   "metadata": {},
   "outputs": [],
   "source": [
    "def build_vanilla_cnn(filters_layer1:int, filters_layer2:int, kernel_size:int, input_dims: GrayScaleImageShape)-> Model:\n",
    "    inputs: Tensor = Input(shape=input_dims)\n",
    "    x: Tensor = Conv2D(filters=filters_layer1, kernel_size=kernel_size, activation='relu')(inputs)\n",
    "    x: Tensor = Conv2D(filters=filters_layer2, kernel_size=kernel_size, activation='relu')(x)\n",
    "    x: Tensor = build_global_average_pooling_layer(global_average_pooling, )\n",
    "    predictions = Dense(K, activation=\"softmax\")(x)\n",
    "    print(predictions)\n",
    "\n",
    "    #compile model using accuracy to measure model performance\n",
    "    model: Model = Model(inputs=inputs, outputs=predictions)\n",
    "    model.compile(optimizer='adam', loss=\"categorical_crossentropy\", metrics=['accuracy'])\n",
    "    return model"
   ]
  },
  {
   "cell_type": "code",
   "execution_count": 134,
   "metadata": {},
   "outputs": [
    {
     "ename": "TypeError",
     "evalue": "unsupported operand type(s) for +: 'int' and 'tuple'",
     "output_type": "error",
     "traceback": [
      "\u001b[1;31m---------------------------------------------------------------------------\u001b[0m",
      "\u001b[1;31mTypeError\u001b[0m                                 Traceback (most recent call last)",
      "\u001b[1;32m<ipython-input-134-3de1ded8ceb6>\u001b[0m in \u001b[0;36m<module>\u001b[1;34m\u001b[0m\n\u001b[0;32m     15\u001b[0m \u001b[1;33m\u001b[0m\u001b[0m\n\u001b[0;32m     16\u001b[0m \u001b[0minputs\u001b[0m \u001b[1;33m=\u001b[0m \u001b[0mInput\u001b[0m\u001b[1;33m(\u001b[0m\u001b[0mshape\u001b[0m\u001b[1;33m=\u001b[0m\u001b[0minput_dims\u001b[0m\u001b[1;33m)\u001b[0m\u001b[1;33m\u001b[0m\u001b[0m\n\u001b[1;32m---> 17\u001b[1;33m \u001b[0mattention_probs\u001b[0m \u001b[1;33m=\u001b[0m \u001b[0mDense\u001b[0m\u001b[1;33m(\u001b[0m\u001b[0minput_dims\u001b[0m\u001b[1;33m,\u001b[0m \u001b[0mactivation\u001b[0m\u001b[1;33m=\u001b[0m\u001b[1;34m'softmax'\u001b[0m\u001b[1;33m,\u001b[0m \u001b[0mname\u001b[0m\u001b[1;33m=\u001b[0m\u001b[1;34m'attention_vec'\u001b[0m\u001b[1;33m)\u001b[0m\u001b[1;33m(\u001b[0m\u001b[0minputs\u001b[0m\u001b[1;33m)\u001b[0m\u001b[1;33m\u001b[0m\u001b[0m\n\u001b[0m",
      "\u001b[1;32mc:\\users\\ychen\\appdata\\local\\programs\\python\\python36\\lib\\site-packages\\keras\\engine\\base_layer.py\u001b[0m in \u001b[0;36m__call__\u001b[1;34m(self, inputs, **kwargs)\u001b[0m\n",
      "\u001b[1;32mc:\\users\\ychen\\appdata\\local\\programs\\python\\python36\\lib\\site-packages\\keras\\layers\\core.py\u001b[0m in \u001b[0;36mbuild\u001b[1;34m(self, input_shape)\u001b[0m\n\u001b[0;32m    864\u001b[0m             \u001b[1;34m'kernel_constraint'\u001b[0m\u001b[1;33m:\u001b[0m \u001b[0mconstraints\u001b[0m\u001b[1;33m.\u001b[0m\u001b[0mserialize\u001b[0m\u001b[1;33m(\u001b[0m\u001b[0mself\u001b[0m\u001b[1;33m.\u001b[0m\u001b[0mkernel_constraint\u001b[0m\u001b[1;33m)\u001b[0m\u001b[1;33m,\u001b[0m\u001b[1;33m\u001b[0m\u001b[0m\n\u001b[0;32m    865\u001b[0m             \u001b[1;34m'bias_constraint'\u001b[0m\u001b[1;33m:\u001b[0m \u001b[0mconstraints\u001b[0m\u001b[1;33m.\u001b[0m\u001b[0mserialize\u001b[0m\u001b[1;33m(\u001b[0m\u001b[0mself\u001b[0m\u001b[1;33m.\u001b[0m\u001b[0mbias_constraint\u001b[0m\u001b[1;33m)\u001b[0m\u001b[1;33m\u001b[0m\u001b[0m\n\u001b[1;32m--> 866\u001b[1;33m         }\n\u001b[0m\u001b[0;32m    867\u001b[0m         \u001b[0mbase_config\u001b[0m \u001b[1;33m=\u001b[0m \u001b[0msuper\u001b[0m\u001b[1;33m(\u001b[0m\u001b[0mDense\u001b[0m\u001b[1;33m,\u001b[0m \u001b[0mself\u001b[0m\u001b[1;33m)\u001b[0m\u001b[1;33m.\u001b[0m\u001b[0mget_config\u001b[0m\u001b[1;33m(\u001b[0m\u001b[1;33m)\u001b[0m\u001b[1;33m\u001b[0m\u001b[0m\n\u001b[0;32m    868\u001b[0m         \u001b[1;32mreturn\u001b[0m \u001b[0mdict\u001b[0m\u001b[1;33m(\u001b[0m\u001b[0mlist\u001b[0m\u001b[1;33m(\u001b[0m\u001b[0mbase_config\u001b[0m\u001b[1;33m.\u001b[0m\u001b[0mitems\u001b[0m\u001b[1;33m(\u001b[0m\u001b[1;33m)\u001b[0m\u001b[1;33m)\u001b[0m \u001b[1;33m+\u001b[0m \u001b[0mlist\u001b[0m\u001b[1;33m(\u001b[0m\u001b[0mconfig\u001b[0m\u001b[1;33m.\u001b[0m\u001b[0mitems\u001b[0m\u001b[1;33m(\u001b[0m\u001b[1;33m)\u001b[0m\u001b[1;33m)\u001b[0m\u001b[1;33m)\u001b[0m\u001b[1;33m\u001b[0m\u001b[0m\n",
      "\u001b[1;32mc:\\users\\ychen\\appdata\\local\\programs\\python\\python36\\lib\\site-packages\\keras\\legacy\\interfaces.py\u001b[0m in \u001b[0;36mwrapper\u001b[1;34m(*args, **kwargs)\u001b[0m\n\u001b[0;32m     89\u001b[0m         \u001b[0mwrapper\u001b[0m\u001b[1;33m.\u001b[0m\u001b[0m_legacy_support_signature\u001b[0m \u001b[1;33m=\u001b[0m \u001b[0minspect\u001b[0m\u001b[1;33m.\u001b[0m\u001b[0mgetargspec\u001b[0m\u001b[1;33m(\u001b[0m\u001b[0mfunc\u001b[0m\u001b[1;33m)\u001b[0m\u001b[1;33m\u001b[0m\u001b[0m\n\u001b[0;32m     90\u001b[0m         \u001b[1;32mreturn\u001b[0m \u001b[0mwrapper\u001b[0m\u001b[1;33m\u001b[0m\u001b[0m\n\u001b[1;32m---> 91\u001b[1;33m     \u001b[1;32mreturn\u001b[0m \u001b[0mlegacy_support\u001b[0m\u001b[1;33m\u001b[0m\u001b[0m\n\u001b[0m\u001b[0;32m     92\u001b[0m \u001b[1;33m\u001b[0m\u001b[0m\n\u001b[0;32m     93\u001b[0m \u001b[1;33m\u001b[0m\u001b[0m\n",
      "\u001b[1;32mc:\\users\\ychen\\appdata\\local\\programs\\python\\python36\\lib\\site-packages\\keras\\engine\\base_layer.py\u001b[0m in \u001b[0;36madd_weight\u001b[1;34m(self, name, shape, dtype, initializer, regularizer, trainable, constraint)\u001b[0m\n",
      "\u001b[1;32mc:\\users\\ychen\\appdata\\local\\programs\\python\\python36\\lib\\site-packages\\keras\\initializers.py\u001b[0m in \u001b[0;36m__call__\u001b[1;34m(self, shape, dtype)\u001b[0m\n\u001b[0;32m    207\u001b[0m     \u001b[1;32mdef\u001b[0m \u001b[0mget_config\u001b[0m\u001b[1;33m(\u001b[0m\u001b[0mself\u001b[0m\u001b[1;33m)\u001b[0m\u001b[1;33m:\u001b[0m\u001b[1;33m\u001b[0m\u001b[0m\n\u001b[0;32m    208\u001b[0m         return {\n\u001b[1;32m--> 209\u001b[1;33m             \u001b[1;34m'scale'\u001b[0m\u001b[1;33m:\u001b[0m \u001b[0mself\u001b[0m\u001b[1;33m.\u001b[0m\u001b[0mscale\u001b[0m\u001b[1;33m,\u001b[0m\u001b[1;33m\u001b[0m\u001b[0m\n\u001b[0m\u001b[0;32m    210\u001b[0m             \u001b[1;34m'mode'\u001b[0m\u001b[1;33m:\u001b[0m \u001b[0mself\u001b[0m\u001b[1;33m.\u001b[0m\u001b[0mmode\u001b[0m\u001b[1;33m,\u001b[0m\u001b[1;33m\u001b[0m\u001b[0m\n\u001b[0;32m    211\u001b[0m             \u001b[1;34m'distribution'\u001b[0m\u001b[1;33m:\u001b[0m \u001b[0mself\u001b[0m\u001b[1;33m.\u001b[0m\u001b[0mdistribution\u001b[0m\u001b[1;33m,\u001b[0m\u001b[1;33m\u001b[0m\u001b[0m\n",
      "\u001b[1;31mTypeError\u001b[0m: unsupported operand type(s) for +: 'int' and 'tuple'"
     ]
    }
   ],
   "source": [
    "from keras.layers import merge\n",
    "\n",
    "def build_model(input_dim):\n",
    "    inputs = Input(shape=input_dim)\n",
    "\n",
    "    # ATTENTION PART STARTS HERE\n",
    "    attention_probs = Dense(input_dim, activation='softmax', name='attention_vec')(inputs)\n",
    "    attention_mul = merge([inputs, attention_probs], output_shape=32, name='attention_mul', mode='mul')\n",
    "    # ATTENTION PART FINISHES HERE\n",
    "\n",
    "    attention_mul = Dense(64)(attention_mul)\n",
    "    output = Dense(1, activation='sigmoid')(attention_mul)\n",
    "    model = Model(input=[inputs], output=output)\n",
    "    return model\n",
    "\n",
    "inputs = Input(shape=input_dims)\n",
    "attention_probs = Dense(input_dims, activation='softmax', name='attention_vec')(inputs)"
   ]
  },
  {
   "cell_type": "markdown",
   "metadata": {},
   "source": [
    "## Compile and Fit Model"
   ]
  },
  {
   "cell_type": "code",
   "execution_count": 121,
   "metadata": {},
   "outputs": [
    {
     "name": "stdout",
     "output_type": "stream",
     "text": [
      "Expanding shape from (60000, 28, 28) to (60000, 28, 28, 1)\n",
      "Expanding shape from (10000, 28, 28) to (10000, 28, 28, 1)\n"
     ]
    }
   ],
   "source": [
    "X_train.reshape((60000,1,28,28))\n",
    "\n",
    "def expand_tensor_shape(X_train: np.ndarray)-> np.ndarray:\n",
    "    new_shape: Tuple = X_train.shape + (1,)\n",
    "    print(f\"Expanding shape from {X_train.shape} to {new_shape}\")\n",
    "    return X_train.reshape(new_shape)\n",
    "\n",
    "X_train_expanded: np.ndarray = expand_tensor_shape(X_train)\n",
    "X_test_expanded: np.ndarray = expand_tensor_shape(X_test)"
   ]
  },
  {
   "cell_type": "markdown",
   "metadata": {},
   "source": [
    "# FEI Face Dataset"
   ]
  },
  {
   "cell_type": "code",
   "execution_count": 12,
   "metadata": {},
   "outputs": [
    {
     "data": {
      "text/plain": [
       "PIL.JpegImagePlugin.JpegImageFile"
      ]
     },
     "execution_count": 12,
     "metadata": {},
     "output_type": "execute_result"
    }
   ],
   "source": [
    "from PIL.JpegImagePlugin import JpegImageFile\n",
    "\n",
    "image: JpegImageFile = load_img('1-01.jpg')"
   ]
  },
  {
   "cell_type": "code",
   "execution_count": null,
   "metadata": {},
   "outputs": [],
   "source": []
  }
 ],
 "metadata": {
  "kernelspec": {
   "display_name": "Python 3",
   "language": "python",
   "name": "python3"
  },
  "language_info": {
   "codemirror_mode": {
    "name": "ipython",
    "version": 3
   },
   "file_extension": ".py",
   "mimetype": "text/x-python",
   "name": "python",
   "nbconvert_exporter": "python",
   "pygments_lexer": "ipython3",
   "version": "3.6.4"
  }
 },
 "nbformat": 4,
 "nbformat_minor": 2
}
