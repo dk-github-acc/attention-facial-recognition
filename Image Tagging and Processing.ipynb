{
 "cells": [
  {
   "cell_type": "markdown",
   "metadata": {},
   "source": [
    "### Import AWS Boto3 API Library"
   ]
  },
  {
   "cell_type": "markdown",
   "metadata": {},
   "source": [
    "We first need to instantiate a `boto3` object to retrieve the face images from the S3 bucket. Within the S3 bucket, several JSON mappings files exists that provides the mapping between an image filename and its actual class. We will use `classification/easy_gender.json` in our example.\n",
    "\n",
    "The `easy` portion of this task stems from the limited number of images (barely more than 100) and the fact that all the faces are centered and aligned."
   ]
  },
  {
   "cell_type": "code",
   "execution_count": 8,
   "metadata": {
    "scrolled": true
   },
   "outputs": [
    {
     "name": "stdout",
     "output_type": "stream",
     "text": [
      "[('10a.jpg', 'male'), ('10b.jpg', 'male'), ('13a.jpg', 'male')]\n"
     ]
    }
   ],
   "source": [
    "import boto3\n",
    "import json\n",
    "from typing import List, Dict\n",
    "\n",
    "S3_BUCKET_NAME = \"fei-faces-sao-paulo\"\n",
    "\n",
    "s3 = boto3.resource('s3')\n",
    "faces_bucket = s3.Bucket(S3_BUCKET_NAME) # instantiate the bucket object\n",
    "\n",
    "# all_objects : List[str] = list(map(lambda object: object.key, faces_bucket.objects.all()))\n",
    "\n",
    "# mappings_dict = list(filter(lambda filename: filename.endswith(\".json\"), all_objects))\n",
    "# print(mappings_dict)\n",
    "\n",
    "mapping = 'classification/easy_gender.json'\n",
    "obj = s3.Object(S3_BUCKET_NAME, mapping)\n",
    "json_string: str = obj.get()['Body'].read().decode('utf-8')\n",
    "mappings_dict: Dict[str, str] = json.loads(json_string) # this mappings_dict contains filename -> gender class mapping\n",
    "print(list(mappings_dict.items())[:3]) # print the first three entries of the mappings dictionary"
   ]
  },
  {
   "cell_type": "code",
   "execution_count": 2,
   "metadata": {},
   "outputs": [
    {
     "name": "stdout",
     "output_type": "stream",
     "text": [
      "Current working directory is C:\\Users\\ychen\\Desktop\\Github Repositories\\attention-facial-recognition\n"
     ]
    }
   ],
   "source": [
    "import os \n",
    "cwd = os.getcwd()\n",
    "print(f\"Current working directory is {cwd}\")"
   ]
  },
  {
   "cell_type": "code",
   "execution_count": 12,
   "metadata": {},
   "outputs": [
    {
     "name": "stdout",
     "output_type": "stream",
     "text": [
      "Found a local copy of C:\\Users\\ychen\\Desktop\\Github Repositories\\attention-facial-recognition\\faces\\10a.jpg\n",
      "Found a local copy of C:\\Users\\ychen\\Desktop\\Github Repositories\\attention-facial-recognition\\faces\\10b.jpg\n",
      "Found a local copy of C:\\Users\\ychen\\Desktop\\Github Repositories\\attention-facial-recognition\\faces\\13a.jpg\n",
      "Found a local copy of C:\\Users\\ychen\\Desktop\\Github Repositories\\attention-facial-recognition\\faces\\13b.jpg\n",
      "Found a local copy of C:\\Users\\ychen\\Desktop\\Github Repositories\\attention-facial-recognition\\faces\\14a.jpg\n",
      "Found a local copy of C:\\Users\\ychen\\Desktop\\Github Repositories\\attention-facial-recognition\\faces\\14b.jpg\n",
      "Found a local copy of C:\\Users\\ychen\\Desktop\\Github Repositories\\attention-facial-recognition\\faces\\16a.jpg\n",
      "Found a local copy of C:\\Users\\ychen\\Desktop\\Github Repositories\\attention-facial-recognition\\faces\\16b.jpg\n",
      "Found a local copy of C:\\Users\\ychen\\Desktop\\Github Repositories\\attention-facial-recognition\\faces\\17a.jpg\n",
      "Found a local copy of C:\\Users\\ychen\\Desktop\\Github Repositories\\attention-facial-recognition\\faces\\17b.jpg\n",
      "Found a local copy of C:\\Users\\ychen\\Desktop\\Github Repositories\\attention-facial-recognition\\faces\\18a.jpg\n",
      "Found a local copy of C:\\Users\\ychen\\Desktop\\Github Repositories\\attention-facial-recognition\\faces\\18b.jpg\n",
      "Found a local copy of C:\\Users\\ychen\\Desktop\\Github Repositories\\attention-facial-recognition\\faces\\19a.jpg\n",
      "Found a local copy of C:\\Users\\ychen\\Desktop\\Github Repositories\\attention-facial-recognition\\faces\\19b.jpg\n",
      "Found a local copy of C:\\Users\\ychen\\Desktop\\Github Repositories\\attention-facial-recognition\\faces\\1a.jpg\n",
      "Found a local copy of C:\\Users\\ychen\\Desktop\\Github Repositories\\attention-facial-recognition\\faces\\1b.jpg\n",
      "Found a local copy of C:\\Users\\ychen\\Desktop\\Github Repositories\\attention-facial-recognition\\faces\\20a.jpg\n",
      "Found a local copy of C:\\Users\\ychen\\Desktop\\Github Repositories\\attention-facial-recognition\\faces\\20b.jpg\n",
      "Found a local copy of C:\\Users\\ychen\\Desktop\\Github Repositories\\attention-facial-recognition\\faces\\22a.jpg\n",
      "Found a local copy of C:\\Users\\ychen\\Desktop\\Github Repositories\\attention-facial-recognition\\faces\\22b.jpg\n",
      "Found a local copy of C:\\Users\\ychen\\Desktop\\Github Repositories\\attention-facial-recognition\\faces\\23a.jpg\n",
      "Found a local copy of C:\\Users\\ychen\\Desktop\\Github Repositories\\attention-facial-recognition\\faces\\23b.jpg\n",
      "Found a local copy of C:\\Users\\ychen\\Desktop\\Github Repositories\\attention-facial-recognition\\faces\\24a.jpg\n",
      "Found a local copy of C:\\Users\\ychen\\Desktop\\Github Repositories\\attention-facial-recognition\\faces\\24b.jpg\n",
      "Found a local copy of C:\\Users\\ychen\\Desktop\\Github Repositories\\attention-facial-recognition\\faces\\27a.jpg\n",
      "Found a local copy of C:\\Users\\ychen\\Desktop\\Github Repositories\\attention-facial-recognition\\faces\\27b.jpg\n",
      "Found a local copy of C:\\Users\\ychen\\Desktop\\Github Repositories\\attention-facial-recognition\\faces\\2a.jpg\n",
      "Found a local copy of C:\\Users\\ychen\\Desktop\\Github Repositories\\attention-facial-recognition\\faces\\2b.jpg\n",
      "Found a local copy of C:\\Users\\ychen\\Desktop\\Github Repositories\\attention-facial-recognition\\faces\\30a.jpg\n",
      "Found a local copy of C:\\Users\\ychen\\Desktop\\Github Repositories\\attention-facial-recognition\\faces\\30b.jpg\n",
      "Found a local copy of C:\\Users\\ychen\\Desktop\\Github Repositories\\attention-facial-recognition\\faces\\31a.jpg\n",
      "Found a local copy of C:\\Users\\ychen\\Desktop\\Github Repositories\\attention-facial-recognition\\faces\\31b.jpg\n",
      "Found a local copy of C:\\Users\\ychen\\Desktop\\Github Repositories\\attention-facial-recognition\\faces\\32a.jpg\n",
      "Found a local copy of C:\\Users\\ychen\\Desktop\\Github Repositories\\attention-facial-recognition\\faces\\32b.jpg\n",
      "Found a local copy of C:\\Users\\ychen\\Desktop\\Github Repositories\\attention-facial-recognition\\faces\\33a.jpg\n",
      "Found a local copy of C:\\Users\\ychen\\Desktop\\Github Repositories\\attention-facial-recognition\\faces\\33b.jpg\n",
      "Found a local copy of C:\\Users\\ychen\\Desktop\\Github Repositories\\attention-facial-recognition\\faces\\34a.jpg\n",
      "Found a local copy of C:\\Users\\ychen\\Desktop\\Github Repositories\\attention-facial-recognition\\faces\\34b.jpg\n",
      "Found a local copy of C:\\Users\\ychen\\Desktop\\Github Repositories\\attention-facial-recognition\\faces\\35a.jpg\n",
      "Found a local copy of C:\\Users\\ychen\\Desktop\\Github Repositories\\attention-facial-recognition\\faces\\35b.jpg\n",
      "Found a local copy of C:\\Users\\ychen\\Desktop\\Github Repositories\\attention-facial-recognition\\faces\\36a.jpg\n",
      "Found a local copy of C:\\Users\\ychen\\Desktop\\Github Repositories\\attention-facial-recognition\\faces\\36b.jpg\n",
      "Found a local copy of C:\\Users\\ychen\\Desktop\\Github Repositories\\attention-facial-recognition\\faces\\38a.jpg\n",
      "Found a local copy of C:\\Users\\ychen\\Desktop\\Github Repositories\\attention-facial-recognition\\faces\\38b.jpg\n",
      "Found a local copy of C:\\Users\\ychen\\Desktop\\Github Repositories\\attention-facial-recognition\\faces\\3a.jpg\n",
      "Found a local copy of C:\\Users\\ychen\\Desktop\\Github Repositories\\attention-facial-recognition\\faces\\3b.jpg\n",
      "Found a local copy of C:\\Users\\ychen\\Desktop\\Github Repositories\\attention-facial-recognition\\faces\\40a.jpg\n",
      "Found a local copy of C:\\Users\\ychen\\Desktop\\Github Repositories\\attention-facial-recognition\\faces\\40b.jpg\n",
      "Found a local copy of C:\\Users\\ychen\\Desktop\\Github Repositories\\attention-facial-recognition\\faces\\41a.jpg\n",
      "Found a local copy of C:\\Users\\ychen\\Desktop\\Github Repositories\\attention-facial-recognition\\faces\\41b.jpg\n",
      "Found a local copy of C:\\Users\\ychen\\Desktop\\Github Repositories\\attention-facial-recognition\\faces\\44a.jpg\n",
      "Found a local copy of C:\\Users\\ychen\\Desktop\\Github Repositories\\attention-facial-recognition\\faces\\44b.jpg\n",
      "Found a local copy of C:\\Users\\ychen\\Desktop\\Github Repositories\\attention-facial-recognition\\faces\\45a.jpg\n",
      "Found a local copy of C:\\Users\\ychen\\Desktop\\Github Repositories\\attention-facial-recognition\\faces\\45b.jpg\n",
      "Found a local copy of C:\\Users\\ychen\\Desktop\\Github Repositories\\attention-facial-recognition\\faces\\46a.jpg\n",
      "Found a local copy of C:\\Users\\ychen\\Desktop\\Github Repositories\\attention-facial-recognition\\faces\\46b.jpg\n",
      "Found a local copy of C:\\Users\\ychen\\Desktop\\Github Repositories\\attention-facial-recognition\\faces\\47a.jpg\n",
      "Found a local copy of C:\\Users\\ychen\\Desktop\\Github Repositories\\attention-facial-recognition\\faces\\47b.jpg\n",
      "Found a local copy of C:\\Users\\ychen\\Desktop\\Github Repositories\\attention-facial-recognition\\faces\\48a.jpg\n",
      "Found a local copy of C:\\Users\\ychen\\Desktop\\Github Repositories\\attention-facial-recognition\\faces\\48b.jpg\n",
      "Found a local copy of C:\\Users\\ychen\\Desktop\\Github Repositories\\attention-facial-recognition\\faces\\49a.jpg\n",
      "Found a local copy of C:\\Users\\ychen\\Desktop\\Github Repositories\\attention-facial-recognition\\faces\\49b.jpg\n",
      "Found a local copy of C:\\Users\\ychen\\Desktop\\Github Repositories\\attention-facial-recognition\\faces\\4a.jpg\n",
      "Found a local copy of C:\\Users\\ychen\\Desktop\\Github Repositories\\attention-facial-recognition\\faces\\4b.jpg\n",
      "Found a local copy of C:\\Users\\ychen\\Desktop\\Github Repositories\\attention-facial-recognition\\faces\\50a.jpg\n",
      "Found a local copy of C:\\Users\\ychen\\Desktop\\Github Repositories\\attention-facial-recognition\\faces\\50b.jpg\n",
      "Found a local copy of C:\\Users\\ychen\\Desktop\\Github Repositories\\attention-facial-recognition\\faces\\52a.jpg\n",
      "Found a local copy of C:\\Users\\ychen\\Desktop\\Github Repositories\\attention-facial-recognition\\faces\\52b.jpg\n",
      "Found a local copy of C:\\Users\\ychen\\Desktop\\Github Repositories\\attention-facial-recognition\\faces\\53a.jpg\n",
      "Found a local copy of C:\\Users\\ychen\\Desktop\\Github Repositories\\attention-facial-recognition\\faces\\53b.jpg\n",
      "Found a local copy of C:\\Users\\ychen\\Desktop\\Github Repositories\\attention-facial-recognition\\faces\\54a.jpg\n",
      "Found a local copy of C:\\Users\\ychen\\Desktop\\Github Repositories\\attention-facial-recognition\\faces\\54b.jpg\n",
      "Found a local copy of C:\\Users\\ychen\\Desktop\\Github Repositories\\attention-facial-recognition\\faces\\55a.jpg\n",
      "Found a local copy of C:\\Users\\ychen\\Desktop\\Github Repositories\\attention-facial-recognition\\faces\\55b.jpg\n",
      "Found a local copy of C:\\Users\\ychen\\Desktop\\Github Repositories\\attention-facial-recognition\\faces\\56a.jpg\n",
      "Found a local copy of C:\\Users\\ychen\\Desktop\\Github Repositories\\attention-facial-recognition\\faces\\56b.jpg\n",
      "Found a local copy of C:\\Users\\ychen\\Desktop\\Github Repositories\\attention-facial-recognition\\faces\\57a.jpg\n",
      "Found a local copy of C:\\Users\\ychen\\Desktop\\Github Repositories\\attention-facial-recognition\\faces\\57b.jpg\n",
      "Found a local copy of C:\\Users\\ychen\\Desktop\\Github Repositories\\attention-facial-recognition\\faces\\59a.jpg\n",
      "Found a local copy of C:\\Users\\ychen\\Desktop\\Github Repositories\\attention-facial-recognition\\faces\\59b.jpg\n",
      "Found a local copy of C:\\Users\\ychen\\Desktop\\Github Repositories\\attention-facial-recognition\\faces\\5a.jpg\n",
      "Found a local copy of C:\\Users\\ychen\\Desktop\\Github Repositories\\attention-facial-recognition\\faces\\5b.jpg\n",
      "Found a local copy of C:\\Users\\ychen\\Desktop\\Github Repositories\\attention-facial-recognition\\faces\\61a.jpg\n",
      "Found a local copy of C:\\Users\\ychen\\Desktop\\Github Repositories\\attention-facial-recognition\\faces\\61b.jpg\n",
      "Found a local copy of C:\\Users\\ychen\\Desktop\\Github Repositories\\attention-facial-recognition\\faces\\63a.jpg\n",
      "Found a local copy of C:\\Users\\ychen\\Desktop\\Github Repositories\\attention-facial-recognition\\faces\\63b.jpg\n",
      "Found a local copy of C:\\Users\\ychen\\Desktop\\Github Repositories\\attention-facial-recognition\\faces\\64a.jpg\n",
      "Found a local copy of C:\\Users\\ychen\\Desktop\\Github Repositories\\attention-facial-recognition\\faces\\64b.jpg\n",
      "Found a local copy of C:\\Users\\ychen\\Desktop\\Github Repositories\\attention-facial-recognition\\faces\\65a.jpg\n",
      "Found a local copy of C:\\Users\\ychen\\Desktop\\Github Repositories\\attention-facial-recognition\\faces\\65b.jpg\n",
      "Found a local copy of C:\\Users\\ychen\\Desktop\\Github Repositories\\attention-facial-recognition\\faces\\66a.jpg\n",
      "Found a local copy of C:\\Users\\ychen\\Desktop\\Github Repositories\\attention-facial-recognition\\faces\\66b.jpg\n",
      "Found a local copy of C:\\Users\\ychen\\Desktop\\Github Repositories\\attention-facial-recognition\\faces\\67a.jpg\n",
      "Found a local copy of C:\\Users\\ychen\\Desktop\\Github Repositories\\attention-facial-recognition\\faces\\67b.jpg\n",
      "Found a local copy of C:\\Users\\ychen\\Desktop\\Github Repositories\\attention-facial-recognition\\faces\\68a.jpg\n",
      "Found a local copy of C:\\Users\\ychen\\Desktop\\Github Repositories\\attention-facial-recognition\\faces\\68b.jpg\n",
      "Found a local copy of C:\\Users\\ychen\\Desktop\\Github Repositories\\attention-facial-recognition\\faces\\6a.jpg\n",
      "Found a local copy of C:\\Users\\ychen\\Desktop\\Github Repositories\\attention-facial-recognition\\faces\\6b.jpg\n",
      "Found a local copy of C:\\Users\\ychen\\Desktop\\Github Repositories\\attention-facial-recognition\\faces\\70a.jpg\n",
      "Found a local copy of C:\\Users\\ychen\\Desktop\\Github Repositories\\attention-facial-recognition\\faces\\70b.jpg\n",
      "Found a local copy of C:\\Users\\ychen\\Desktop\\Github Repositories\\attention-facial-recognition\\faces\\71a.jpg\n",
      "Found a local copy of C:\\Users\\ychen\\Desktop\\Github Repositories\\attention-facial-recognition\\faces\\71b.jpg\n",
      "Found a local copy of C:\\Users\\ychen\\Desktop\\Github Repositories\\attention-facial-recognition\\faces\\73a.jpg\n",
      "Found a local copy of C:\\Users\\ychen\\Desktop\\Github Repositories\\attention-facial-recognition\\faces\\73b.jpg\n",
      "Found a local copy of C:\\Users\\ychen\\Desktop\\Github Repositories\\attention-facial-recognition\\faces\\74a.jpg\n",
      "Found a local copy of C:\\Users\\ychen\\Desktop\\Github Repositories\\attention-facial-recognition\\faces\\74b.jpg\n",
      "Found a local copy of C:\\Users\\ychen\\Desktop\\Github Repositories\\attention-facial-recognition\\faces\\76a.jpg\n",
      "Found a local copy of C:\\Users\\ychen\\Desktop\\Github Repositories\\attention-facial-recognition\\faces\\76b.jpg\n",
      "Found a local copy of C:\\Users\\ychen\\Desktop\\Github Repositories\\attention-facial-recognition\\faces\\77a.jpg\n",
      "Found a local copy of C:\\Users\\ychen\\Desktop\\Github Repositories\\attention-facial-recognition\\faces\\77b.jpg\n",
      "Found a local copy of C:\\Users\\ychen\\Desktop\\Github Repositories\\attention-facial-recognition\\faces\\7a.jpg\n",
      "Found a local copy of C:\\Users\\ychen\\Desktop\\Github Repositories\\attention-facial-recognition\\faces\\7b.jpg\n",
      "Found a local copy of C:\\Users\\ychen\\Desktop\\Github Repositories\\attention-facial-recognition\\faces\\80a.jpg\n",
      "Found a local copy of C:\\Users\\ychen\\Desktop\\Github Repositories\\attention-facial-recognition\\faces\\80b.jpg\n",
      "Found a local copy of C:\\Users\\ychen\\Desktop\\Github Repositories\\attention-facial-recognition\\faces\\81a.jpg\n",
      "Found a local copy of C:\\Users\\ychen\\Desktop\\Github Repositories\\attention-facial-recognition\\faces\\81b.jpg\n",
      "Found a local copy of C:\\Users\\ychen\\Desktop\\Github Repositories\\attention-facial-recognition\\faces\\82a.jpg\n",
      "Found a local copy of C:\\Users\\ychen\\Desktop\\Github Repositories\\attention-facial-recognition\\faces\\82b.jpg\n",
      "Found a local copy of C:\\Users\\ychen\\Desktop\\Github Repositories\\attention-facial-recognition\\faces\\83a.jpg\n",
      "Found a local copy of C:\\Users\\ychen\\Desktop\\Github Repositories\\attention-facial-recognition\\faces\\83b.jpg\n",
      "Found a local copy of C:\\Users\\ychen\\Desktop\\Github Repositories\\attention-facial-recognition\\faces\\88a.jpg\n",
      "Found a local copy of C:\\Users\\ychen\\Desktop\\Github Repositories\\attention-facial-recognition\\faces\\88b.jpg\n",
      "Found a local copy of C:\\Users\\ychen\\Desktop\\Github Repositories\\attention-facial-recognition\\faces\\89a.jpg\n",
      "Found a local copy of C:\\Users\\ychen\\Desktop\\Github Repositories\\attention-facial-recognition\\faces\\89b.jpg\n",
      "Found a local copy of C:\\Users\\ychen\\Desktop\\Github Repositories\\attention-facial-recognition\\faces\\8a.jpg\n"
     ]
    },
    {
     "name": "stdout",
     "output_type": "stream",
     "text": [
      "Found a local copy of C:\\Users\\ychen\\Desktop\\Github Repositories\\attention-facial-recognition\\faces\\8b.jpg\n",
      "Found a local copy of C:\\Users\\ychen\\Desktop\\Github Repositories\\attention-facial-recognition\\faces\\90a.jpg\n",
      "Found a local copy of C:\\Users\\ychen\\Desktop\\Github Repositories\\attention-facial-recognition\\faces\\90b.jpg\n",
      "Found a local copy of C:\\Users\\ychen\\Desktop\\Github Repositories\\attention-facial-recognition\\faces\\92a.jpg\n",
      "Found a local copy of C:\\Users\\ychen\\Desktop\\Github Repositories\\attention-facial-recognition\\faces\\92b.jpg\n",
      "Found a local copy of C:\\Users\\ychen\\Desktop\\Github Repositories\\attention-facial-recognition\\faces\\93a.jpg\n",
      "Found a local copy of C:\\Users\\ychen\\Desktop\\Github Repositories\\attention-facial-recognition\\faces\\93b.jpg\n",
      "Found a local copy of C:\\Users\\ychen\\Desktop\\Github Repositories\\attention-facial-recognition\\faces\\94a.jpg\n",
      "Found a local copy of C:\\Users\\ychen\\Desktop\\Github Repositories\\attention-facial-recognition\\faces\\94b.jpg\n",
      "Found a local copy of C:\\Users\\ychen\\Desktop\\Github Repositories\\attention-facial-recognition\\faces\\95a.jpg\n",
      "Found a local copy of C:\\Users\\ychen\\Desktop\\Github Repositories\\attention-facial-recognition\\faces\\95b.jpg\n",
      "Found a local copy of C:\\Users\\ychen\\Desktop\\Github Repositories\\attention-facial-recognition\\faces\\9a.jpg\n",
      "Found a local copy of C:\\Users\\ychen\\Desktop\\Github Repositories\\attention-facial-recognition\\faces\\9b.jpg\n",
      "Found a local copy of C:\\Users\\ychen\\Desktop\\Github Repositories\\attention-facial-recognition\\faces\\100a.jpg\n",
      "Found a local copy of C:\\Users\\ychen\\Desktop\\Github Repositories\\attention-facial-recognition\\faces\\100b.jpg\n",
      "Found a local copy of C:\\Users\\ychen\\Desktop\\Github Repositories\\attention-facial-recognition\\faces\\11a.jpg\n",
      "Found a local copy of C:\\Users\\ychen\\Desktop\\Github Repositories\\attention-facial-recognition\\faces\\11b.jpg\n",
      "Found a local copy of C:\\Users\\ychen\\Desktop\\Github Repositories\\attention-facial-recognition\\faces\\12a.jpg\n",
      "Downloading 12b.jpg, saving as C:\\Users\\ychen\\Desktop\\Github Repositories\\attention-facial-recognition\\faces\\12b.jpg\n"
     ]
    },
    {
     "ename": "ClientError",
     "evalue": "An error occurred (404) when calling the HeadObject operation: Not Found",
     "output_type": "error",
     "traceback": [
      "\u001b[1;31m---------------------------------------------------------------------------\u001b[0m",
      "\u001b[1;31mClientError\u001b[0m                               Traceback (most recent call last)",
      "\u001b[1;32m<ipython-input-12-296b0c62ffd6>\u001b[0m in \u001b[0;36m<module>\u001b[1;34m\u001b[0m\n\u001b[0;32m     13\u001b[0m     \u001b[1;32mif\u001b[0m \u001b[1;32mnot\u001b[0m \u001b[0mos\u001b[0m\u001b[1;33m.\u001b[0m\u001b[0mpath\u001b[0m\u001b[1;33m.\u001b[0m\u001b[0misfile\u001b[0m\u001b[1;33m(\u001b[0m\u001b[0mlocal_filename\u001b[0m\u001b[1;33m)\u001b[0m\u001b[1;33m:\u001b[0m \u001b[1;31m# if file does not exist locally\u001b[0m\u001b[1;33m\u001b[0m\u001b[0m\n\u001b[0;32m     14\u001b[0m         \u001b[0mprint\u001b[0m\u001b[1;33m(\u001b[0m\u001b[1;34mf\"Downloading {filename}, saving as {local_filename}\"\u001b[0m\u001b[1;33m)\u001b[0m\u001b[1;33m\u001b[0m\u001b[0m\n\u001b[1;32m---> 15\u001b[1;33m         \u001b[0ms3\u001b[0m\u001b[1;33m.\u001b[0m\u001b[0mdownload_file\u001b[0m\u001b[1;33m(\u001b[0m\u001b[0mS3_BUCKET_NAME\u001b[0m\u001b[1;33m,\u001b[0m \u001b[0mfilename\u001b[0m\u001b[1;33m,\u001b[0m \u001b[0mlocal_filename\u001b[0m\u001b[1;33m)\u001b[0m\u001b[1;33m\u001b[0m\u001b[0m\n\u001b[0m\u001b[0;32m     16\u001b[0m     \u001b[1;32melse\u001b[0m\u001b[1;33m:\u001b[0m\u001b[1;33m\u001b[0m\u001b[0m\n\u001b[0;32m     17\u001b[0m         \u001b[0mprint\u001b[0m\u001b[1;33m(\u001b[0m\u001b[1;34mf\"Found a local copy of {local_filename}\"\u001b[0m\u001b[1;33m)\u001b[0m\u001b[1;33m\u001b[0m\u001b[0m\n",
      "\u001b[1;32mc:\\users\\ychen\\appdata\\local\\programs\\python\\python36\\lib\\site-packages\\boto3\\s3\\inject.py\u001b[0m in \u001b[0;36mdownload_file\u001b[1;34m(self, Bucket, Key, Filename, ExtraArgs, Callback, Config)\u001b[0m\n\u001b[0;32m    170\u001b[0m         return transfer.download_file(\n\u001b[0;32m    171\u001b[0m             \u001b[0mbucket\u001b[0m\u001b[1;33m=\u001b[0m\u001b[0mBucket\u001b[0m\u001b[1;33m,\u001b[0m \u001b[0mkey\u001b[0m\u001b[1;33m=\u001b[0m\u001b[0mKey\u001b[0m\u001b[1;33m,\u001b[0m \u001b[0mfilename\u001b[0m\u001b[1;33m=\u001b[0m\u001b[0mFilename\u001b[0m\u001b[1;33m,\u001b[0m\u001b[1;33m\u001b[0m\u001b[0m\n\u001b[1;32m--> 172\u001b[1;33m             extra_args=ExtraArgs, callback=Callback)\n\u001b[0m\u001b[0;32m    173\u001b[0m \u001b[1;33m\u001b[0m\u001b[0m\n\u001b[0;32m    174\u001b[0m \u001b[1;33m\u001b[0m\u001b[0m\n",
      "\u001b[1;32mc:\\users\\ychen\\appdata\\local\\programs\\python\\python36\\lib\\site-packages\\boto3\\s3\\transfer.py\u001b[0m in \u001b[0;36mdownload_file\u001b[1;34m(self, bucket, key, filename, extra_args, callback)\u001b[0m\n\u001b[0;32m    305\u001b[0m             bucket, key, filename, extra_args, subscribers)\n\u001b[0;32m    306\u001b[0m         \u001b[1;32mtry\u001b[0m\u001b[1;33m:\u001b[0m\u001b[1;33m\u001b[0m\u001b[0m\n\u001b[1;32m--> 307\u001b[1;33m             \u001b[0mfuture\u001b[0m\u001b[1;33m.\u001b[0m\u001b[0mresult\u001b[0m\u001b[1;33m(\u001b[0m\u001b[1;33m)\u001b[0m\u001b[1;33m\u001b[0m\u001b[0m\n\u001b[0m\u001b[0;32m    308\u001b[0m         \u001b[1;31m# This is for backwards compatibility where when retries are\u001b[0m\u001b[1;33m\u001b[0m\u001b[1;33m\u001b[0m\u001b[0m\n\u001b[0;32m    309\u001b[0m         \u001b[1;31m# exceeded we need to throw the same error from boto3 instead of\u001b[0m\u001b[1;33m\u001b[0m\u001b[1;33m\u001b[0m\u001b[0m\n",
      "\u001b[1;32mc:\\users\\ychen\\appdata\\local\\programs\\python\\python36\\lib\\site-packages\\s3transfer\\futures.py\u001b[0m in \u001b[0;36mresult\u001b[1;34m(self)\u001b[0m\n\u001b[0;32m    104\u001b[0m             \u001b[1;31m# however if a KeyboardInterrupt is raised we want want to exit\u001b[0m\u001b[1;33m\u001b[0m\u001b[1;33m\u001b[0m\u001b[0m\n\u001b[0;32m    105\u001b[0m             \u001b[1;31m# out of this and propogate the exception.\u001b[0m\u001b[1;33m\u001b[0m\u001b[1;33m\u001b[0m\u001b[0m\n\u001b[1;32m--> 106\u001b[1;33m             \u001b[1;32mreturn\u001b[0m \u001b[0mself\u001b[0m\u001b[1;33m.\u001b[0m\u001b[0m_coordinator\u001b[0m\u001b[1;33m.\u001b[0m\u001b[0mresult\u001b[0m\u001b[1;33m(\u001b[0m\u001b[1;33m)\u001b[0m\u001b[1;33m\u001b[0m\u001b[0m\n\u001b[0m\u001b[0;32m    107\u001b[0m         \u001b[1;32mexcept\u001b[0m \u001b[0mKeyboardInterrupt\u001b[0m \u001b[1;32mas\u001b[0m \u001b[0me\u001b[0m\u001b[1;33m:\u001b[0m\u001b[1;33m\u001b[0m\u001b[0m\n\u001b[0;32m    108\u001b[0m             \u001b[0mself\u001b[0m\u001b[1;33m.\u001b[0m\u001b[0mcancel\u001b[0m\u001b[1;33m(\u001b[0m\u001b[1;33m)\u001b[0m\u001b[1;33m\u001b[0m\u001b[0m\n",
      "\u001b[1;32mc:\\users\\ychen\\appdata\\local\\programs\\python\\python36\\lib\\site-packages\\s3transfer\\futures.py\u001b[0m in \u001b[0;36mresult\u001b[1;34m(self)\u001b[0m\n\u001b[0;32m    263\u001b[0m         \u001b[1;31m# final result.\u001b[0m\u001b[1;33m\u001b[0m\u001b[1;33m\u001b[0m\u001b[0m\n\u001b[0;32m    264\u001b[0m         \u001b[1;32mif\u001b[0m \u001b[0mself\u001b[0m\u001b[1;33m.\u001b[0m\u001b[0m_exception\u001b[0m\u001b[1;33m:\u001b[0m\u001b[1;33m\u001b[0m\u001b[0m\n\u001b[1;32m--> 265\u001b[1;33m             \u001b[1;32mraise\u001b[0m \u001b[0mself\u001b[0m\u001b[1;33m.\u001b[0m\u001b[0m_exception\u001b[0m\u001b[1;33m\u001b[0m\u001b[0m\n\u001b[0m\u001b[0;32m    266\u001b[0m         \u001b[1;32mreturn\u001b[0m \u001b[0mself\u001b[0m\u001b[1;33m.\u001b[0m\u001b[0m_result\u001b[0m\u001b[1;33m\u001b[0m\u001b[0m\n\u001b[0;32m    267\u001b[0m \u001b[1;33m\u001b[0m\u001b[0m\n",
      "\u001b[1;32mc:\\users\\ychen\\appdata\\local\\programs\\python\\python36\\lib\\site-packages\\s3transfer\\tasks.py\u001b[0m in \u001b[0;36m_main\u001b[1;34m(self, transfer_future, **kwargs)\u001b[0m\n\u001b[0;32m    253\u001b[0m             \u001b[1;31m# Call the submit method to start submitting tasks to execute the\u001b[0m\u001b[1;33m\u001b[0m\u001b[1;33m\u001b[0m\u001b[0m\n\u001b[0;32m    254\u001b[0m             \u001b[1;31m# transfer.\u001b[0m\u001b[1;33m\u001b[0m\u001b[1;33m\u001b[0m\u001b[0m\n\u001b[1;32m--> 255\u001b[1;33m             \u001b[0mself\u001b[0m\u001b[1;33m.\u001b[0m\u001b[0m_submit\u001b[0m\u001b[1;33m(\u001b[0m\u001b[0mtransfer_future\u001b[0m\u001b[1;33m=\u001b[0m\u001b[0mtransfer_future\u001b[0m\u001b[1;33m,\u001b[0m \u001b[1;33m**\u001b[0m\u001b[0mkwargs\u001b[0m\u001b[1;33m)\u001b[0m\u001b[1;33m\u001b[0m\u001b[0m\n\u001b[0m\u001b[0;32m    256\u001b[0m         \u001b[1;32mexcept\u001b[0m \u001b[0mBaseException\u001b[0m \u001b[1;32mas\u001b[0m \u001b[0me\u001b[0m\u001b[1;33m:\u001b[0m\u001b[1;33m\u001b[0m\u001b[0m\n\u001b[0;32m    257\u001b[0m             \u001b[1;31m# If there was an exception raised during the submission of task\u001b[0m\u001b[1;33m\u001b[0m\u001b[1;33m\u001b[0m\u001b[0m\n",
      "\u001b[1;32mc:\\users\\ychen\\appdata\\local\\programs\\python\\python36\\lib\\site-packages\\s3transfer\\download.py\u001b[0m in \u001b[0;36m_submit\u001b[1;34m(self, client, config, osutil, request_executor, io_executor, transfer_future, bandwidth_limiter)\u001b[0m\n\u001b[0;32m    343\u001b[0m                 \u001b[0mBucket\u001b[0m\u001b[1;33m=\u001b[0m\u001b[0mtransfer_future\u001b[0m\u001b[1;33m.\u001b[0m\u001b[0mmeta\u001b[0m\u001b[1;33m.\u001b[0m\u001b[0mcall_args\u001b[0m\u001b[1;33m.\u001b[0m\u001b[0mbucket\u001b[0m\u001b[1;33m,\u001b[0m\u001b[1;33m\u001b[0m\u001b[0m\n\u001b[0;32m    344\u001b[0m                 \u001b[0mKey\u001b[0m\u001b[1;33m=\u001b[0m\u001b[0mtransfer_future\u001b[0m\u001b[1;33m.\u001b[0m\u001b[0mmeta\u001b[0m\u001b[1;33m.\u001b[0m\u001b[0mcall_args\u001b[0m\u001b[1;33m.\u001b[0m\u001b[0mkey\u001b[0m\u001b[1;33m,\u001b[0m\u001b[1;33m\u001b[0m\u001b[0m\n\u001b[1;32m--> 345\u001b[1;33m                 \u001b[1;33m**\u001b[0m\u001b[0mtransfer_future\u001b[0m\u001b[1;33m.\u001b[0m\u001b[0mmeta\u001b[0m\u001b[1;33m.\u001b[0m\u001b[0mcall_args\u001b[0m\u001b[1;33m.\u001b[0m\u001b[0mextra_args\u001b[0m\u001b[1;33m\u001b[0m\u001b[0m\n\u001b[0m\u001b[0;32m    346\u001b[0m             )\n\u001b[0;32m    347\u001b[0m             transfer_future.meta.provide_transfer_size(\n",
      "\u001b[1;32mc:\\users\\ychen\\appdata\\local\\programs\\python\\python36\\lib\\site-packages\\botocore\\client.py\u001b[0m in \u001b[0;36m_api_call\u001b[1;34m(self, *args, **kwargs)\u001b[0m\n\u001b[0;32m    355\u001b[0m                     \"%s() only accepts keyword arguments.\" % py_operation_name)\n\u001b[0;32m    356\u001b[0m             \u001b[1;31m# The \"self\" in this scope is referring to the BaseClient.\u001b[0m\u001b[1;33m\u001b[0m\u001b[1;33m\u001b[0m\u001b[0m\n\u001b[1;32m--> 357\u001b[1;33m             \u001b[1;32mreturn\u001b[0m \u001b[0mself\u001b[0m\u001b[1;33m.\u001b[0m\u001b[0m_make_api_call\u001b[0m\u001b[1;33m(\u001b[0m\u001b[0moperation_name\u001b[0m\u001b[1;33m,\u001b[0m \u001b[0mkwargs\u001b[0m\u001b[1;33m)\u001b[0m\u001b[1;33m\u001b[0m\u001b[0m\n\u001b[0m\u001b[0;32m    358\u001b[0m \u001b[1;33m\u001b[0m\u001b[0m\n\u001b[0;32m    359\u001b[0m         \u001b[0m_api_call\u001b[0m\u001b[1;33m.\u001b[0m\u001b[0m__name__\u001b[0m \u001b[1;33m=\u001b[0m \u001b[0mstr\u001b[0m\u001b[1;33m(\u001b[0m\u001b[0mpy_operation_name\u001b[0m\u001b[1;33m)\u001b[0m\u001b[1;33m\u001b[0m\u001b[0m\n",
      "\u001b[1;32mc:\\users\\ychen\\appdata\\local\\programs\\python\\python36\\lib\\site-packages\\botocore\\client.py\u001b[0m in \u001b[0;36m_make_api_call\u001b[1;34m(self, operation_name, api_params)\u001b[0m\n\u001b[0;32m    659\u001b[0m             \u001b[0merror_code\u001b[0m \u001b[1;33m=\u001b[0m \u001b[0mparsed_response\u001b[0m\u001b[1;33m.\u001b[0m\u001b[0mget\u001b[0m\u001b[1;33m(\u001b[0m\u001b[1;34m\"Error\"\u001b[0m\u001b[1;33m,\u001b[0m \u001b[1;33m{\u001b[0m\u001b[1;33m}\u001b[0m\u001b[1;33m)\u001b[0m\u001b[1;33m.\u001b[0m\u001b[0mget\u001b[0m\u001b[1;33m(\u001b[0m\u001b[1;34m\"Code\"\u001b[0m\u001b[1;33m)\u001b[0m\u001b[1;33m\u001b[0m\u001b[0m\n\u001b[0;32m    660\u001b[0m             \u001b[0merror_class\u001b[0m \u001b[1;33m=\u001b[0m \u001b[0mself\u001b[0m\u001b[1;33m.\u001b[0m\u001b[0mexceptions\u001b[0m\u001b[1;33m.\u001b[0m\u001b[0mfrom_code\u001b[0m\u001b[1;33m(\u001b[0m\u001b[0merror_code\u001b[0m\u001b[1;33m)\u001b[0m\u001b[1;33m\u001b[0m\u001b[0m\n\u001b[1;32m--> 661\u001b[1;33m             \u001b[1;32mraise\u001b[0m \u001b[0merror_class\u001b[0m\u001b[1;33m(\u001b[0m\u001b[0mparsed_response\u001b[0m\u001b[1;33m,\u001b[0m \u001b[0moperation_name\u001b[0m\u001b[1;33m)\u001b[0m\u001b[1;33m\u001b[0m\u001b[0m\n\u001b[0m\u001b[0;32m    662\u001b[0m         \u001b[1;32melse\u001b[0m\u001b[1;33m:\u001b[0m\u001b[1;33m\u001b[0m\u001b[0m\n\u001b[0;32m    663\u001b[0m             \u001b[1;32mreturn\u001b[0m \u001b[0mparsed_response\u001b[0m\u001b[1;33m\u001b[0m\u001b[0m\n",
      "\u001b[1;31mClientError\u001b[0m: An error occurred (404) when calling the HeadObject operation: Not Found"
     ]
    }
   ],
   "source": [
    "import matplotlib.pyplot as plt\n",
    "import matplotlib.image as mpimg\n",
    "import numpy as np\n",
    "from keras.preprocessing.image import load_img\n",
    "s3 = boto3.client('s3')\n",
    "\n",
    "LOCAL_IMAGES_FOLDER = \"faces\"\n",
    "\n",
    "target = []\n",
    "images = []\n",
    "for filename, gender in mappings_dict.items():\n",
    "    local_filename: str = os.path.join(cwd, LOCAL_IMAGES_FOLDER, filename)\n",
    "    if not os.path.isfile(local_filename): # if file does not exist locally\n",
    "        print(f\"Downloading {filename}, saving as {local_filename}\")\n",
    "        s3.download_file(S3_BUCKET_NAME, filename, local_filename)\n",
    "    else:\n",
    "        print(f\"Found a local copy of {local_filename}\")\n",
    "    # use the Keras image API to load in an image\n",
    "    # load the image\n",
    "    img = load_img(local_filename)\n",
    "    # report details about the image\n",
    "    assert img.size == (260, 360)\n",
    "    images.append(np.array(img))\n",
    "    target.append(gender)"
   ]
  },
  {
   "cell_type": "code",
   "execution_count": null,
   "metadata": {},
   "outputs": [],
   "source": [
    "\n",
    "\n",
    "\n",
    "with open(tmp.name, 'wb') as f:\n",
    "    object.download_fileobj(f)\n",
    "    img=mpimg.imread(tmp.name)\n",
    "    # ...Do jobs using img"
   ]
  },
  {
   "cell_type": "code",
   "execution_count": 13,
   "metadata": {},
   "outputs": [],
   "source": [
    "import numpy as np\n",
    "image_tensor = np.array(img)"
   ]
  },
  {
   "cell_type": "code",
   "execution_count": 16,
   "metadata": {},
   "outputs": [
    {
     "data": {
      "text/plain": [
       "(480, 640, 3)"
      ]
     },
     "execution_count": 16,
     "metadata": {},
     "output_type": "execute_result"
    }
   ],
   "source": [
    "image_tensor.shape # width, height, RGB depth"
   ]
  },
  {
   "cell_type": "code",
   "execution_count": 24,
   "metadata": {},
   "outputs": [],
   "source": []
  },
  {
   "cell_type": "code",
   "execution_count": 22,
   "metadata": {},
   "outputs": [],
   "source": [
    "import numpy as np\n",
    "from typing import List\n",
    "ImageTensor = np.ndarray\n",
    "\n",
    "images: List[ImageTensor] = []\n",
    "class_targets: List[int] = []\n",
    "\n"
   ]
  },
  {
   "cell_type": "code",
   "execution_count": 23,
   "metadata": {},
   "outputs": [],
   "source": [
    "images.append(image_tensor)"
   ]
  },
  {
   "cell_type": "code",
   "execution_count": null,
   "metadata": {},
   "outputs": [],
   "source": []
  }
 ],
 "metadata": {
  "kernelspec": {
   "display_name": "Python 3",
   "language": "python",
   "name": "python3"
  },
  "language_info": {
   "codemirror_mode": {
    "name": "ipython",
    "version": 3
   },
   "file_extension": ".py",
   "mimetype": "text/x-python",
   "name": "python",
   "nbconvert_exporter": "python",
   "pygments_lexer": "ipython3",
   "version": "3.6.4"
  }
 },
 "nbformat": 4,
 "nbformat_minor": 2
}
