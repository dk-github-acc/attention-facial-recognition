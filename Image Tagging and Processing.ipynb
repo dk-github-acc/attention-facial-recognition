{
 "cells": [
  {
   "cell_type": "markdown",
   "metadata": {},
   "source": [
    "### Import AWS Boto3 API Library"
   ]
  },
  {
   "cell_type": "markdown",
   "metadata": {},
   "source": [
    "We first need to instantiate a `boto3` object to retrieve the face images from the S3 bucket. Within the S3 bucket, several JSON mappings files exists that provides the mapping between an image filename and its actual class. We will use `classification/easy_gender.json` in our example.\n",
    "\n",
    "The `easy` portion of this task stems from the limited number of images (barely more than 100) and the fact that all the faces are centered and aligned."
   ]
  },
  {
   "cell_type": "code",
   "execution_count": 8,
   "metadata": {
    "scrolled": true
   },
   "outputs": [
    {
     "name": "stdout",
     "output_type": "stream",
     "text": [
      "[('10a.jpg', 'male'), ('10b.jpg', 'male'), ('13a.jpg', 'male')]\n"
     ]
    }
   ],
   "source": [
    "import boto3\n",
    "import json\n",
    "from typing import List, Dict\n",
    "\n",
    "S3_BUCKET_NAME = \"fei-faces-sao-paulo\"\n",
    "\n",
    "s3 = boto3.resource('s3')\n",
    "faces_bucket = s3.Bucket(S3_BUCKET_NAME) # instantiate the bucket object\n",
    "\n",
    "# all_objects : List[str] = list(map(lambda object: object.key, faces_bucket.objects.all()))\n",
    "\n",
    "# mappings_dict = list(filter(lambda filename: filename.endswith(\".json\"), all_objects))\n",
    "# print(mappings_dict)\n",
    "\n",
    "mapping = 'classification/easy_gender.json'\n",
    "obj = s3.Object(S3_BUCKET_NAME, mapping)\n",
    "json_string: str = obj.get()['Body'].read().decode('utf-8')\n",
    "mappings_dict: Dict[str, str] = json.loads(json_string) # this mappings_dict contains filename -> gender class mapping\n",
    "print(list(mappings_dict.items())[:3]) # print the first three entries of the mappings dictionary"
   ]
  },
  {
   "cell_type": "code",
   "execution_count": 2,
   "metadata": {},
   "outputs": [
    {
     "name": "stdout",
     "output_type": "stream",
     "text": [
      "Current working directory is C:\\Users\\ychen\\Desktop\\Github Repositories\\attention-facial-recognition\n"
     ]
    }
   ],
   "source": [
    "import os \n",
    "cwd = os.getcwd()\n",
    "print(f\"Current working directory is {cwd}\")"
   ]
  },
  {
   "cell_type": "code",
   "execution_count": 13,
   "metadata": {},
   "outputs": [
    {
     "name": "stdout",
     "output_type": "stream",
     "text": [
      "Found a local copy of C:\\Users\\ychen\\Desktop\\Github Repositories\\attention-facial-recognition\\faces\\10a.jpg\n",
      "Found a local copy of C:\\Users\\ychen\\Desktop\\Github Repositories\\attention-facial-recognition\\faces\\10b.jpg\n",
      "Found a local copy of C:\\Users\\ychen\\Desktop\\Github Repositories\\attention-facial-recognition\\faces\\13a.jpg\n",
      "Found a local copy of C:\\Users\\ychen\\Desktop\\Github Repositories\\attention-facial-recognition\\faces\\13b.jpg\n",
      "Found a local copy of C:\\Users\\ychen\\Desktop\\Github Repositories\\attention-facial-recognition\\faces\\14a.jpg\n",
      "Found a local copy of C:\\Users\\ychen\\Desktop\\Github Repositories\\attention-facial-recognition\\faces\\14b.jpg\n",
      "Found a local copy of C:\\Users\\ychen\\Desktop\\Github Repositories\\attention-facial-recognition\\faces\\16a.jpg\n",
      "Found a local copy of C:\\Users\\ychen\\Desktop\\Github Repositories\\attention-facial-recognition\\faces\\16b.jpg\n",
      "Found a local copy of C:\\Users\\ychen\\Desktop\\Github Repositories\\attention-facial-recognition\\faces\\17a.jpg\n",
      "Found a local copy of C:\\Users\\ychen\\Desktop\\Github Repositories\\attention-facial-recognition\\faces\\17b.jpg\n",
      "Found a local copy of C:\\Users\\ychen\\Desktop\\Github Repositories\\attention-facial-recognition\\faces\\18a.jpg\n",
      "Found a local copy of C:\\Users\\ychen\\Desktop\\Github Repositories\\attention-facial-recognition\\faces\\18b.jpg\n",
      "Found a local copy of C:\\Users\\ychen\\Desktop\\Github Repositories\\attention-facial-recognition\\faces\\19a.jpg\n",
      "Found a local copy of C:\\Users\\ychen\\Desktop\\Github Repositories\\attention-facial-recognition\\faces\\19b.jpg\n",
      "Found a local copy of C:\\Users\\ychen\\Desktop\\Github Repositories\\attention-facial-recognition\\faces\\1a.jpg\n",
      "Found a local copy of C:\\Users\\ychen\\Desktop\\Github Repositories\\attention-facial-recognition\\faces\\1b.jpg\n",
      "Found a local copy of C:\\Users\\ychen\\Desktop\\Github Repositories\\attention-facial-recognition\\faces\\20a.jpg\n",
      "Found a local copy of C:\\Users\\ychen\\Desktop\\Github Repositories\\attention-facial-recognition\\faces\\20b.jpg\n",
      "Found a local copy of C:\\Users\\ychen\\Desktop\\Github Repositories\\attention-facial-recognition\\faces\\22a.jpg\n",
      "Found a local copy of C:\\Users\\ychen\\Desktop\\Github Repositories\\attention-facial-recognition\\faces\\22b.jpg\n",
      "Found a local copy of C:\\Users\\ychen\\Desktop\\Github Repositories\\attention-facial-recognition\\faces\\23a.jpg\n",
      "Found a local copy of C:\\Users\\ychen\\Desktop\\Github Repositories\\attention-facial-recognition\\faces\\23b.jpg\n",
      "Found a local copy of C:\\Users\\ychen\\Desktop\\Github Repositories\\attention-facial-recognition\\faces\\24a.jpg\n",
      "Found a local copy of C:\\Users\\ychen\\Desktop\\Github Repositories\\attention-facial-recognition\\faces\\24b.jpg\n",
      "Found a local copy of C:\\Users\\ychen\\Desktop\\Github Repositories\\attention-facial-recognition\\faces\\27a.jpg\n",
      "Found a local copy of C:\\Users\\ychen\\Desktop\\Github Repositories\\attention-facial-recognition\\faces\\27b.jpg\n",
      "Found a local copy of C:\\Users\\ychen\\Desktop\\Github Repositories\\attention-facial-recognition\\faces\\2a.jpg\n",
      "Found a local copy of C:\\Users\\ychen\\Desktop\\Github Repositories\\attention-facial-recognition\\faces\\2b.jpg\n",
      "Found a local copy of C:\\Users\\ychen\\Desktop\\Github Repositories\\attention-facial-recognition\\faces\\30a.jpg\n",
      "Found a local copy of C:\\Users\\ychen\\Desktop\\Github Repositories\\attention-facial-recognition\\faces\\30b.jpg\n",
      "Found a local copy of C:\\Users\\ychen\\Desktop\\Github Repositories\\attention-facial-recognition\\faces\\31a.jpg\n",
      "Found a local copy of C:\\Users\\ychen\\Desktop\\Github Repositories\\attention-facial-recognition\\faces\\31b.jpg\n",
      "Found a local copy of C:\\Users\\ychen\\Desktop\\Github Repositories\\attention-facial-recognition\\faces\\32a.jpg\n",
      "Found a local copy of C:\\Users\\ychen\\Desktop\\Github Repositories\\attention-facial-recognition\\faces\\32b.jpg\n",
      "Found a local copy of C:\\Users\\ychen\\Desktop\\Github Repositories\\attention-facial-recognition\\faces\\33a.jpg\n",
      "Found a local copy of C:\\Users\\ychen\\Desktop\\Github Repositories\\attention-facial-recognition\\faces\\33b.jpg\n",
      "Found a local copy of C:\\Users\\ychen\\Desktop\\Github Repositories\\attention-facial-recognition\\faces\\34a.jpg\n",
      "Found a local copy of C:\\Users\\ychen\\Desktop\\Github Repositories\\attention-facial-recognition\\faces\\34b.jpg\n",
      "Found a local copy of C:\\Users\\ychen\\Desktop\\Github Repositories\\attention-facial-recognition\\faces\\35a.jpg\n",
      "Found a local copy of C:\\Users\\ychen\\Desktop\\Github Repositories\\attention-facial-recognition\\faces\\35b.jpg\n",
      "Found a local copy of C:\\Users\\ychen\\Desktop\\Github Repositories\\attention-facial-recognition\\faces\\36a.jpg\n",
      "Found a local copy of C:\\Users\\ychen\\Desktop\\Github Repositories\\attention-facial-recognition\\faces\\36b.jpg\n",
      "Found a local copy of C:\\Users\\ychen\\Desktop\\Github Repositories\\attention-facial-recognition\\faces\\38a.jpg\n",
      "Found a local copy of C:\\Users\\ychen\\Desktop\\Github Repositories\\attention-facial-recognition\\faces\\38b.jpg\n",
      "Found a local copy of C:\\Users\\ychen\\Desktop\\Github Repositories\\attention-facial-recognition\\faces\\3a.jpg\n",
      "Found a local copy of C:\\Users\\ychen\\Desktop\\Github Repositories\\attention-facial-recognition\\faces\\3b.jpg\n",
      "Found a local copy of C:\\Users\\ychen\\Desktop\\Github Repositories\\attention-facial-recognition\\faces\\40a.jpg\n",
      "Found a local copy of C:\\Users\\ychen\\Desktop\\Github Repositories\\attention-facial-recognition\\faces\\40b.jpg\n",
      "Found a local copy of C:\\Users\\ychen\\Desktop\\Github Repositories\\attention-facial-recognition\\faces\\41a.jpg\n",
      "Found a local copy of C:\\Users\\ychen\\Desktop\\Github Repositories\\attention-facial-recognition\\faces\\41b.jpg\n",
      "Found a local copy of C:\\Users\\ychen\\Desktop\\Github Repositories\\attention-facial-recognition\\faces\\44a.jpg\n",
      "Found a local copy of C:\\Users\\ychen\\Desktop\\Github Repositories\\attention-facial-recognition\\faces\\44b.jpg\n",
      "Found a local copy of C:\\Users\\ychen\\Desktop\\Github Repositories\\attention-facial-recognition\\faces\\45a.jpg\n",
      "Found a local copy of C:\\Users\\ychen\\Desktop\\Github Repositories\\attention-facial-recognition\\faces\\45b.jpg\n",
      "Found a local copy of C:\\Users\\ychen\\Desktop\\Github Repositories\\attention-facial-recognition\\faces\\46a.jpg\n",
      "Found a local copy of C:\\Users\\ychen\\Desktop\\Github Repositories\\attention-facial-recognition\\faces\\46b.jpg\n",
      "Found a local copy of C:\\Users\\ychen\\Desktop\\Github Repositories\\attention-facial-recognition\\faces\\47a.jpg\n",
      "Found a local copy of C:\\Users\\ychen\\Desktop\\Github Repositories\\attention-facial-recognition\\faces\\47b.jpg\n",
      "Found a local copy of C:\\Users\\ychen\\Desktop\\Github Repositories\\attention-facial-recognition\\faces\\48a.jpg\n",
      "Found a local copy of C:\\Users\\ychen\\Desktop\\Github Repositories\\attention-facial-recognition\\faces\\48b.jpg\n",
      "Found a local copy of C:\\Users\\ychen\\Desktop\\Github Repositories\\attention-facial-recognition\\faces\\49a.jpg\n",
      "Found a local copy of C:\\Users\\ychen\\Desktop\\Github Repositories\\attention-facial-recognition\\faces\\49b.jpg\n",
      "Found a local copy of C:\\Users\\ychen\\Desktop\\Github Repositories\\attention-facial-recognition\\faces\\4a.jpg\n",
      "Found a local copy of C:\\Users\\ychen\\Desktop\\Github Repositories\\attention-facial-recognition\\faces\\4b.jpg\n",
      "Found a local copy of C:\\Users\\ychen\\Desktop\\Github Repositories\\attention-facial-recognition\\faces\\50a.jpg\n",
      "Found a local copy of C:\\Users\\ychen\\Desktop\\Github Repositories\\attention-facial-recognition\\faces\\50b.jpg\n",
      "Found a local copy of C:\\Users\\ychen\\Desktop\\Github Repositories\\attention-facial-recognition\\faces\\52a.jpg\n",
      "Found a local copy of C:\\Users\\ychen\\Desktop\\Github Repositories\\attention-facial-recognition\\faces\\52b.jpg\n",
      "Found a local copy of C:\\Users\\ychen\\Desktop\\Github Repositories\\attention-facial-recognition\\faces\\53a.jpg\n",
      "Found a local copy of C:\\Users\\ychen\\Desktop\\Github Repositories\\attention-facial-recognition\\faces\\53b.jpg\n",
      "Found a local copy of C:\\Users\\ychen\\Desktop\\Github Repositories\\attention-facial-recognition\\faces\\54a.jpg\n",
      "Found a local copy of C:\\Users\\ychen\\Desktop\\Github Repositories\\attention-facial-recognition\\faces\\54b.jpg\n",
      "Found a local copy of C:\\Users\\ychen\\Desktop\\Github Repositories\\attention-facial-recognition\\faces\\55a.jpg\n",
      "Found a local copy of C:\\Users\\ychen\\Desktop\\Github Repositories\\attention-facial-recognition\\faces\\55b.jpg\n",
      "Found a local copy of C:\\Users\\ychen\\Desktop\\Github Repositories\\attention-facial-recognition\\faces\\56a.jpg\n",
      "Found a local copy of C:\\Users\\ychen\\Desktop\\Github Repositories\\attention-facial-recognition\\faces\\56b.jpg\n",
      "Found a local copy of C:\\Users\\ychen\\Desktop\\Github Repositories\\attention-facial-recognition\\faces\\57a.jpg\n",
      "Found a local copy of C:\\Users\\ychen\\Desktop\\Github Repositories\\attention-facial-recognition\\faces\\57b.jpg\n",
      "Found a local copy of C:\\Users\\ychen\\Desktop\\Github Repositories\\attention-facial-recognition\\faces\\59a.jpg\n",
      "Found a local copy of C:\\Users\\ychen\\Desktop\\Github Repositories\\attention-facial-recognition\\faces\\59b.jpg\n",
      "Found a local copy of C:\\Users\\ychen\\Desktop\\Github Repositories\\attention-facial-recognition\\faces\\5a.jpg\n",
      "Found a local copy of C:\\Users\\ychen\\Desktop\\Github Repositories\\attention-facial-recognition\\faces\\5b.jpg\n",
      "Found a local copy of C:\\Users\\ychen\\Desktop\\Github Repositories\\attention-facial-recognition\\faces\\61a.jpg\n",
      "Found a local copy of C:\\Users\\ychen\\Desktop\\Github Repositories\\attention-facial-recognition\\faces\\61b.jpg\n",
      "Found a local copy of C:\\Users\\ychen\\Desktop\\Github Repositories\\attention-facial-recognition\\faces\\63a.jpg\n",
      "Found a local copy of C:\\Users\\ychen\\Desktop\\Github Repositories\\attention-facial-recognition\\faces\\63b.jpg\n",
      "Found a local copy of C:\\Users\\ychen\\Desktop\\Github Repositories\\attention-facial-recognition\\faces\\64a.jpg\n",
      "Found a local copy of C:\\Users\\ychen\\Desktop\\Github Repositories\\attention-facial-recognition\\faces\\64b.jpg\n",
      "Found a local copy of C:\\Users\\ychen\\Desktop\\Github Repositories\\attention-facial-recognition\\faces\\65a.jpg\n",
      "Found a local copy of C:\\Users\\ychen\\Desktop\\Github Repositories\\attention-facial-recognition\\faces\\65b.jpg\n",
      "Found a local copy of C:\\Users\\ychen\\Desktop\\Github Repositories\\attention-facial-recognition\\faces\\66a.jpg\n",
      "Found a local copy of C:\\Users\\ychen\\Desktop\\Github Repositories\\attention-facial-recognition\\faces\\66b.jpg\n",
      "Found a local copy of C:\\Users\\ychen\\Desktop\\Github Repositories\\attention-facial-recognition\\faces\\67a.jpg\n",
      "Found a local copy of C:\\Users\\ychen\\Desktop\\Github Repositories\\attention-facial-recognition\\faces\\67b.jpg\n",
      "Found a local copy of C:\\Users\\ychen\\Desktop\\Github Repositories\\attention-facial-recognition\\faces\\68a.jpg\n",
      "Found a local copy of C:\\Users\\ychen\\Desktop\\Github Repositories\\attention-facial-recognition\\faces\\68b.jpg\n",
      "Found a local copy of C:\\Users\\ychen\\Desktop\\Github Repositories\\attention-facial-recognition\\faces\\6a.jpg\n",
      "Found a local copy of C:\\Users\\ychen\\Desktop\\Github Repositories\\attention-facial-recognition\\faces\\6b.jpg\n",
      "Found a local copy of C:\\Users\\ychen\\Desktop\\Github Repositories\\attention-facial-recognition\\faces\\70a.jpg\n",
      "Found a local copy of C:\\Users\\ychen\\Desktop\\Github Repositories\\attention-facial-recognition\\faces\\70b.jpg\n",
      "Found a local copy of C:\\Users\\ychen\\Desktop\\Github Repositories\\attention-facial-recognition\\faces\\71a.jpg\n",
      "Found a local copy of C:\\Users\\ychen\\Desktop\\Github Repositories\\attention-facial-recognition\\faces\\71b.jpg\n",
      "Found a local copy of C:\\Users\\ychen\\Desktop\\Github Repositories\\attention-facial-recognition\\faces\\73a.jpg\n",
      "Found a local copy of C:\\Users\\ychen\\Desktop\\Github Repositories\\attention-facial-recognition\\faces\\73b.jpg\n",
      "Found a local copy of C:\\Users\\ychen\\Desktop\\Github Repositories\\attention-facial-recognition\\faces\\74a.jpg\n",
      "Found a local copy of C:\\Users\\ychen\\Desktop\\Github Repositories\\attention-facial-recognition\\faces\\74b.jpg\n",
      "Found a local copy of C:\\Users\\ychen\\Desktop\\Github Repositories\\attention-facial-recognition\\faces\\76a.jpg\n",
      "Found a local copy of C:\\Users\\ychen\\Desktop\\Github Repositories\\attention-facial-recognition\\faces\\76b.jpg\n",
      "Found a local copy of C:\\Users\\ychen\\Desktop\\Github Repositories\\attention-facial-recognition\\faces\\77a.jpg\n",
      "Found a local copy of C:\\Users\\ychen\\Desktop\\Github Repositories\\attention-facial-recognition\\faces\\77b.jpg\n",
      "Found a local copy of C:\\Users\\ychen\\Desktop\\Github Repositories\\attention-facial-recognition\\faces\\7a.jpg\n",
      "Found a local copy of C:\\Users\\ychen\\Desktop\\Github Repositories\\attention-facial-recognition\\faces\\7b.jpg\n",
      "Found a local copy of C:\\Users\\ychen\\Desktop\\Github Repositories\\attention-facial-recognition\\faces\\80a.jpg\n",
      "Found a local copy of C:\\Users\\ychen\\Desktop\\Github Repositories\\attention-facial-recognition\\faces\\80b.jpg\n",
      "Found a local copy of C:\\Users\\ychen\\Desktop\\Github Repositories\\attention-facial-recognition\\faces\\81a.jpg\n",
      "Found a local copy of C:\\Users\\ychen\\Desktop\\Github Repositories\\attention-facial-recognition\\faces\\81b.jpg\n",
      "Found a local copy of C:\\Users\\ychen\\Desktop\\Github Repositories\\attention-facial-recognition\\faces\\82a.jpg\n",
      "Found a local copy of C:\\Users\\ychen\\Desktop\\Github Repositories\\attention-facial-recognition\\faces\\82b.jpg\n",
      "Found a local copy of C:\\Users\\ychen\\Desktop\\Github Repositories\\attention-facial-recognition\\faces\\83a.jpg\n",
      "Found a local copy of C:\\Users\\ychen\\Desktop\\Github Repositories\\attention-facial-recognition\\faces\\83b.jpg\n",
      "Found a local copy of C:\\Users\\ychen\\Desktop\\Github Repositories\\attention-facial-recognition\\faces\\88a.jpg\n",
      "Found a local copy of C:\\Users\\ychen\\Desktop\\Github Repositories\\attention-facial-recognition\\faces\\88b.jpg\n",
      "Found a local copy of C:\\Users\\ychen\\Desktop\\Github Repositories\\attention-facial-recognition\\faces\\89a.jpg\n"
     ]
    },
    {
     "name": "stdout",
     "output_type": "stream",
     "text": [
      "Found a local copy of C:\\Users\\ychen\\Desktop\\Github Repositories\\attention-facial-recognition\\faces\\89b.jpg\n",
      "Found a local copy of C:\\Users\\ychen\\Desktop\\Github Repositories\\attention-facial-recognition\\faces\\8a.jpg\n",
      "Found a local copy of C:\\Users\\ychen\\Desktop\\Github Repositories\\attention-facial-recognition\\faces\\8b.jpg\n",
      "Found a local copy of C:\\Users\\ychen\\Desktop\\Github Repositories\\attention-facial-recognition\\faces\\90a.jpg\n",
      "Found a local copy of C:\\Users\\ychen\\Desktop\\Github Repositories\\attention-facial-recognition\\faces\\90b.jpg\n",
      "Found a local copy of C:\\Users\\ychen\\Desktop\\Github Repositories\\attention-facial-recognition\\faces\\92a.jpg\n",
      "Found a local copy of C:\\Users\\ychen\\Desktop\\Github Repositories\\attention-facial-recognition\\faces\\92b.jpg\n",
      "Found a local copy of C:\\Users\\ychen\\Desktop\\Github Repositories\\attention-facial-recognition\\faces\\93a.jpg\n",
      "Found a local copy of C:\\Users\\ychen\\Desktop\\Github Repositories\\attention-facial-recognition\\faces\\93b.jpg\n",
      "Found a local copy of C:\\Users\\ychen\\Desktop\\Github Repositories\\attention-facial-recognition\\faces\\94a.jpg\n",
      "Found a local copy of C:\\Users\\ychen\\Desktop\\Github Repositories\\attention-facial-recognition\\faces\\94b.jpg\n",
      "Found a local copy of C:\\Users\\ychen\\Desktop\\Github Repositories\\attention-facial-recognition\\faces\\95a.jpg\n",
      "Found a local copy of C:\\Users\\ychen\\Desktop\\Github Repositories\\attention-facial-recognition\\faces\\95b.jpg\n",
      "Found a local copy of C:\\Users\\ychen\\Desktop\\Github Repositories\\attention-facial-recognition\\faces\\9a.jpg\n",
      "Found a local copy of C:\\Users\\ychen\\Desktop\\Github Repositories\\attention-facial-recognition\\faces\\9b.jpg\n",
      "Found a local copy of C:\\Users\\ychen\\Desktop\\Github Repositories\\attention-facial-recognition\\faces\\100a.jpg\n",
      "Found a local copy of C:\\Users\\ychen\\Desktop\\Github Repositories\\attention-facial-recognition\\faces\\100b.jpg\n",
      "Found a local copy of C:\\Users\\ychen\\Desktop\\Github Repositories\\attention-facial-recognition\\faces\\11a.jpg\n",
      "Found a local copy of C:\\Users\\ychen\\Desktop\\Github Repositories\\attention-facial-recognition\\faces\\11b.jpg\n",
      "Found a local copy of C:\\Users\\ychen\\Desktop\\Github Repositories\\attention-facial-recognition\\faces\\12a.jpg\n",
      "Downloading 12b.jpg, saving as C:\\Users\\ychen\\Desktop\\Github Repositories\\attention-facial-recognition\\faces\\12b.jpg\n",
      "Downloading 15a.jpg, saving as C:\\Users\\ychen\\Desktop\\Github Repositories\\attention-facial-recognition\\faces\\15a.jpg\n",
      "Downloading 15b.jpg, saving as C:\\Users\\ychen\\Desktop\\Github Repositories\\attention-facial-recognition\\faces\\15b.jpg\n",
      "Downloading 21a.jpg, saving as C:\\Users\\ychen\\Desktop\\Github Repositories\\attention-facial-recognition\\faces\\21a.jpg\n",
      "Downloading 21b.jpg, saving as C:\\Users\\ychen\\Desktop\\Github Repositories\\attention-facial-recognition\\faces\\21b.jpg\n",
      "Downloading 25a.jpg, saving as C:\\Users\\ychen\\Desktop\\Github Repositories\\attention-facial-recognition\\faces\\25a.jpg\n",
      "Downloading 25b.jpg, saving as C:\\Users\\ychen\\Desktop\\Github Repositories\\attention-facial-recognition\\faces\\25b.jpg\n",
      "Downloading 26a.jpg, saving as C:\\Users\\ychen\\Desktop\\Github Repositories\\attention-facial-recognition\\faces\\26a.jpg\n",
      "Downloading 26b.jpg, saving as C:\\Users\\ychen\\Desktop\\Github Repositories\\attention-facial-recognition\\faces\\26b.jpg\n",
      "Downloading 28a.jpg, saving as C:\\Users\\ychen\\Desktop\\Github Repositories\\attention-facial-recognition\\faces\\28a.jpg\n",
      "Downloading 28b.jpg, saving as C:\\Users\\ychen\\Desktop\\Github Repositories\\attention-facial-recognition\\faces\\28b.jpg\n",
      "Downloading 29a.jpg, saving as C:\\Users\\ychen\\Desktop\\Github Repositories\\attention-facial-recognition\\faces\\29a.jpg\n",
      "Downloading 29b.jpg, saving as C:\\Users\\ychen\\Desktop\\Github Repositories\\attention-facial-recognition\\faces\\29b.jpg\n",
      "Downloading 37a.jpg, saving as C:\\Users\\ychen\\Desktop\\Github Repositories\\attention-facial-recognition\\faces\\37a.jpg\n",
      "Downloading 37b.jpg, saving as C:\\Users\\ychen\\Desktop\\Github Repositories\\attention-facial-recognition\\faces\\37b.jpg\n",
      "Downloading 39a.jpg, saving as C:\\Users\\ychen\\Desktop\\Github Repositories\\attention-facial-recognition\\faces\\39a.jpg\n",
      "Downloading 39b.jpg, saving as C:\\Users\\ychen\\Desktop\\Github Repositories\\attention-facial-recognition\\faces\\39b.jpg\n",
      "Downloading 42a.jpg, saving as C:\\Users\\ychen\\Desktop\\Github Repositories\\attention-facial-recognition\\faces\\42a.jpg\n",
      "Downloading 42b.jpg, saving as C:\\Users\\ychen\\Desktop\\Github Repositories\\attention-facial-recognition\\faces\\42b.jpg\n",
      "Downloading 43a.jpg, saving as C:\\Users\\ychen\\Desktop\\Github Repositories\\attention-facial-recognition\\faces\\43a.jpg\n",
      "Downloading 43b.jpg, saving as C:\\Users\\ychen\\Desktop\\Github Repositories\\attention-facial-recognition\\faces\\43b.jpg\n",
      "Downloading 51a.jpg, saving as C:\\Users\\ychen\\Desktop\\Github Repositories\\attention-facial-recognition\\faces\\51a.jpg\n",
      "Downloading 51b.jpg, saving as C:\\Users\\ychen\\Desktop\\Github Repositories\\attention-facial-recognition\\faces\\51b.jpg\n",
      "Downloading 58a.jpg, saving as C:\\Users\\ychen\\Desktop\\Github Repositories\\attention-facial-recognition\\faces\\58a.jpg\n",
      "Downloading 58b.jpg, saving as C:\\Users\\ychen\\Desktop\\Github Repositories\\attention-facial-recognition\\faces\\58b.jpg\n",
      "Downloading 60a.jpg, saving as C:\\Users\\ychen\\Desktop\\Github Repositories\\attention-facial-recognition\\faces\\60a.jpg\n",
      "Downloading 60b.jpg, saving as C:\\Users\\ychen\\Desktop\\Github Repositories\\attention-facial-recognition\\faces\\60b.jpg\n",
      "Downloading 62a.jpg, saving as C:\\Users\\ychen\\Desktop\\Github Repositories\\attention-facial-recognition\\faces\\62a.jpg\n",
      "Downloading 62b.jpg, saving as C:\\Users\\ychen\\Desktop\\Github Repositories\\attention-facial-recognition\\faces\\62b.jpg\n",
      "Downloading 69a.jpg, saving as C:\\Users\\ychen\\Desktop\\Github Repositories\\attention-facial-recognition\\faces\\69a.jpg\n",
      "Downloading 69b.jpg, saving as C:\\Users\\ychen\\Desktop\\Github Repositories\\attention-facial-recognition\\faces\\69b.jpg\n",
      "Downloading 72a.jpg, saving as C:\\Users\\ychen\\Desktop\\Github Repositories\\attention-facial-recognition\\faces\\72a.jpg\n",
      "Downloading 72b.jpg, saving as C:\\Users\\ychen\\Desktop\\Github Repositories\\attention-facial-recognition\\faces\\72b.jpg\n",
      "Downloading 75a.jpg, saving as C:\\Users\\ychen\\Desktop\\Github Repositories\\attention-facial-recognition\\faces\\75a.jpg\n",
      "Downloading 75b.jpg, saving as C:\\Users\\ychen\\Desktop\\Github Repositories\\attention-facial-recognition\\faces\\75b.jpg\n",
      "Downloading 78a.jpg, saving as C:\\Users\\ychen\\Desktop\\Github Repositories\\attention-facial-recognition\\faces\\78a.jpg\n",
      "Downloading 78b.jpg, saving as C:\\Users\\ychen\\Desktop\\Github Repositories\\attention-facial-recognition\\faces\\78b.jpg\n",
      "Downloading 79a.jpg, saving as C:\\Users\\ychen\\Desktop\\Github Repositories\\attention-facial-recognition\\faces\\79a.jpg\n",
      "Downloading 79b.jpg, saving as C:\\Users\\ychen\\Desktop\\Github Repositories\\attention-facial-recognition\\faces\\79b.jpg\n",
      "Downloading 84a.jpg, saving as C:\\Users\\ychen\\Desktop\\Github Repositories\\attention-facial-recognition\\faces\\84a.jpg\n",
      "Downloading 84b.jpg, saving as C:\\Users\\ychen\\Desktop\\Github Repositories\\attention-facial-recognition\\faces\\84b.jpg\n",
      "Downloading 85a.jpg, saving as C:\\Users\\ychen\\Desktop\\Github Repositories\\attention-facial-recognition\\faces\\85a.jpg\n",
      "Downloading 85b.jpg, saving as C:\\Users\\ychen\\Desktop\\Github Repositories\\attention-facial-recognition\\faces\\85b.jpg\n",
      "Downloading 86a.jpg, saving as C:\\Users\\ychen\\Desktop\\Github Repositories\\attention-facial-recognition\\faces\\86a.jpg\n",
      "Downloading 86b.jpg, saving as C:\\Users\\ychen\\Desktop\\Github Repositories\\attention-facial-recognition\\faces\\86b.jpg\n",
      "Downloading 87a.jpg, saving as C:\\Users\\ychen\\Desktop\\Github Repositories\\attention-facial-recognition\\faces\\87a.jpg\n",
      "Downloading 87b.jpg, saving as C:\\Users\\ychen\\Desktop\\Github Repositories\\attention-facial-recognition\\faces\\87b.jpg\n",
      "Downloading 91a.jpg, saving as C:\\Users\\ychen\\Desktop\\Github Repositories\\attention-facial-recognition\\faces\\91a.jpg\n",
      "Downloading 91b.jpg, saving as C:\\Users\\ychen\\Desktop\\Github Repositories\\attention-facial-recognition\\faces\\91b.jpg\n",
      "Downloading 96a.jpg, saving as C:\\Users\\ychen\\Desktop\\Github Repositories\\attention-facial-recognition\\faces\\96a.jpg\n",
      "Downloading 96b.jpg, saving as C:\\Users\\ychen\\Desktop\\Github Repositories\\attention-facial-recognition\\faces\\96b.jpg\n",
      "Downloading 97a.jpg, saving as C:\\Users\\ychen\\Desktop\\Github Repositories\\attention-facial-recognition\\faces\\97a.jpg\n"
     ]
    },
    {
     "name": "stdout",
     "output_type": "stream",
     "text": [
      "Downloading 97b.jpg, saving as C:\\Users\\ychen\\Desktop\\Github Repositories\\attention-facial-recognition\\faces\\97b.jpg\n",
      "Downloading 98a.jpg, saving as C:\\Users\\ychen\\Desktop\\Github Repositories\\attention-facial-recognition\\faces\\98a.jpg\n",
      "Downloading 98b.jpg, saving as C:\\Users\\ychen\\Desktop\\Github Repositories\\attention-facial-recognition\\faces\\98b.jpg\n",
      "Downloading 99a.jpg, saving as C:\\Users\\ychen\\Desktop\\Github Repositories\\attention-facial-recognition\\faces\\99a.jpg\n",
      "Downloading 99b.jpg, saving as C:\\Users\\ychen\\Desktop\\Github Repositories\\attention-facial-recognition\\faces\\99b.jpg\n"
     ]
    }
   ],
   "source": [
    "import matplotlib.pyplot as plt\n",
    "import matplotlib.image as mpimg\n",
    "import numpy as np\n",
    "from keras.preprocessing.image import load_img\n",
    "s3 = boto3.client('s3')\n",
    "\n",
    "LOCAL_IMAGES_FOLDER = \"faces\"\n",
    "\n",
    "target = []\n",
    "images = []\n",
    "for filename, gender in mappings_dict.items():\n",
    "    local_filename: str = os.path.join(cwd, LOCAL_IMAGES_FOLDER, filename)\n",
    "    if not os.path.isfile(local_filename): # if file does not exist locally\n",
    "        print(f\"Downloading {filename}, saving as {local_filename}\")\n",
    "        s3.download_file(S3_BUCKET_NAME, filename, local_filename)\n",
    "    else:\n",
    "        print(f\"Found a local copy of {local_filename}\")\n",
    "    # use the Keras image API to load in an image\n",
    "    # load the image\n",
    "    img = load_img(local_filename)\n",
    "    # report details about the image\n",
    "    assert img.size == (260, 360)\n",
    "    images.append(np.array(img))\n",
    "    target.append(gender)"
   ]
  },
  {
   "cell_type": "code",
   "execution_count": null,
   "metadata": {},
   "outputs": [],
   "source": [
    "\n",
    "a\n",
    "\n",
    "with open(tmp.name, 'wb') as f:\n",
    "    object.download_fileobj(f)\n",
    "    img=mpimg.imread(tmp.name)\n",
    "    # ...Do jobs using img"
   ]
  },
  {
   "cell_type": "code",
   "execution_count": 13,
   "metadata": {},
   "outputs": [],
   "source": [
    "import numpy as np\n",
    "image_tensor = np.array(img)"
   ]
  },
  {
   "cell_type": "code",
   "execution_count": 16,
   "metadata": {},
   "outputs": [
    {
     "data": {
      "text/plain": [
       "(480, 640, 3)"
      ]
     },
     "execution_count": 16,
     "metadata": {},
     "output_type": "execute_result"
    }
   ],
   "source": [
    "image_tensor.shape # width, height, RGB depth"
   ]
  },
  {
   "cell_type": "code",
   "execution_count": 24,
   "metadata": {},
   "outputs": [],
   "source": []
  },
  {
   "cell_type": "code",
   "execution_count": 22,
   "metadata": {},
   "outputs": [],
   "source": [
    "import numpy as np\n",
    "from typing import List\n",
    "ImageTensor = np.ndarray\n",
    "\n",
    "images: List[ImageTensor] = []\n",
    "class_targets: List[int] = []\n",
    "\n"
   ]
  },
  {
   "cell_type": "code",
   "execution_count": 23,
   "metadata": {},
   "outputs": [],
   "source": [
    "images.append(image_tensor)"
   ]
  },
  {
   "cell_type": "code",
   "execution_count": null,
   "metadata": {},
   "outputs": [],
   "source": []
  }
 ],
 "metadata": {
  "kernelspec": {
   "display_name": "Python 3",
   "language": "python",
   "name": "python3"
  },
  "language_info": {
   "codemirror_mode": {
    "name": "ipython",
    "version": 3
   },
   "file_extension": ".py",
   "mimetype": "text/x-python",
   "name": "python",
   "nbconvert_exporter": "python",
   "pygments_lexer": "ipython3",
   "version": "3.6.4"
  }
 },
 "nbformat": 4,
 "nbformat_minor": 2
}
